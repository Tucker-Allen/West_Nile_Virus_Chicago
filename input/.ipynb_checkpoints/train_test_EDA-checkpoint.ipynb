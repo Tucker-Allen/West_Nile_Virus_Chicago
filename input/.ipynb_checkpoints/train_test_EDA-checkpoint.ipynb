{
 "cells": [
  {
   "cell_type": "code",
   "execution_count": 1,
   "metadata": {
    "collapsed": true
   },
   "outputs": [],
   "source": [
    "import pandas as pd\n",
    "import numpy as np\n",
    "import re\n",
    "\n",
    "import time\n",
    "\n",
    "from collections import Counter\n",
    "\n",
    "from sklearn.feature_extraction.text import CountVectorizer"
   ]
  },
  {
   "cell_type": "code",
   "execution_count": 2,
   "metadata": {
    "collapsed": true
   },
   "outputs": [],
   "source": [
    "from geopy.distance import vincenty\n",
    "from geopy.geocoders import Nominatim"
   ]
  },
  {
   "cell_type": "code",
   "execution_count": 3,
   "metadata": {
    "collapsed": true
   },
   "outputs": [],
   "source": [
    "# Testing some Geopy stuff\n",
    "# newport_ri = (41.49008, -71.312796)\n",
    "# cleveland_oh = (41.499498, -81.695391)\n",
    "# print(vincenty(newport_ri, cleveland_oh).miles)"
   ]
  },
  {
   "cell_type": "markdown",
   "metadata": {},
   "source": [
    "---\n",
    "\n",
    "# EDA and Organization"
   ]
  },
  {
   "cell_type": "code",
   "execution_count": 4,
   "metadata": {
    "collapsed": true
   },
   "outputs": [],
   "source": [
    "# Read in dataset and holdout dataset\n",
    "df = pd.read_csv('./train.csv')\n",
    "df_holdout = pd.read_csv('./test.csv')"
   ]
  },
  {
   "cell_type": "code",
   "execution_count": 5,
   "metadata": {
    "collapsed": true
   },
   "outputs": [],
   "source": [
    "# Separate our X and y from dataset, and set our X from holdout dataset\n",
    "X = df.drop('WnvPresent', axis=1)\n",
    "X_holdout = df_holdout\n",
    "y = df['WnvPresent']"
   ]
  },
  {
   "cell_type": "code",
   "execution_count": 6,
   "metadata": {},
   "outputs": [
    {
     "name": "stdout",
     "output_type": "stream",
     "text": [
      "(10506, 11)\n",
      "(116293, 11)\n",
      "(10506,)\n"
     ]
    }
   ],
   "source": [
    "# Looks like our target is included in the Train set\n",
    "print(X.shape)\n",
    "print(X_holdout.shape)\n",
    "print(y.shape)"
   ]
  },
  {
   "cell_type": "code",
   "execution_count": 7,
   "metadata": {},
   "outputs": [
    {
     "data": {
      "text/plain": [
       "Counter({0: 9955, 1: 551})"
      ]
     },
     "execution_count": 7,
     "metadata": {},
     "output_type": "execute_result"
    }
   ],
   "source": [
    "# Going to have VERY unbalanced classes\n",
    "Counter(y)"
   ]
  },
  {
   "cell_type": "code",
   "execution_count": 8,
   "metadata": {},
   "outputs": [
    {
     "data": {
      "text/plain": [
       "Index(['Date', 'Address', 'Species', 'Block', 'Street', 'Trap',\n",
       "       'AddressNumberAndStreet', 'Latitude', 'Longitude', 'AddressAccuracy',\n",
       "       'NumMosquitos'],\n",
       "      dtype='object')"
      ]
     },
     "execution_count": 8,
     "metadata": {},
     "output_type": "execute_result"
    }
   ],
   "source": [
    "X.columns"
   ]
  },
  {
   "cell_type": "code",
   "execution_count": 9,
   "metadata": {},
   "outputs": [
    {
     "data": {
      "text/plain": [
       "Index(['Id', 'Date', 'Address', 'Species', 'Block', 'Street', 'Trap',\n",
       "       'AddressNumberAndStreet', 'Latitude', 'Longitude', 'AddressAccuracy'],\n",
       "      dtype='object')"
      ]
     },
     "execution_count": 9,
     "metadata": {},
     "output_type": "execute_result"
    }
   ],
   "source": [
    "X_holdout.columns"
   ]
  },
  {
   "cell_type": "code",
   "execution_count": 10,
   "metadata": {
    "collapsed": true
   },
   "outputs": [],
   "source": [
    "# Looks like our dataset has a column our houldout dataset does not ('NumMosquitos'), and our holdout dataset has a column our\n",
    "# dataset does not ('Id'). We'll drop 'NumMosquitos' from dataset, since we won't have that information to work\n",
    "# from in our holdout dataset, and add a sequential Id\n",
    "\n",
    "X['Id'] = range(1,len(X)+1)\n",
    "X.drop('NumMosquitos', axis=1, inplace=True)"
   ]
  },
  {
   "cell_type": "code",
   "execution_count": 11,
   "metadata": {
    "scrolled": true
   },
   "outputs": [
    {
     "name": "stdout",
     "output_type": "stream",
     "text": [
      "(10506, 11)\n",
      "(116293, 11)\n",
      "(10506,)\n"
     ]
    }
   ],
   "source": [
    "# Shapes/Columns look good now\n",
    "print(X.shape)\n",
    "print(X_holdout.shape)\n",
    "print(y.shape)"
   ]
  },
  {
   "cell_type": "code",
   "execution_count": 12,
   "metadata": {
    "collapsed": true
   },
   "outputs": [],
   "source": [
    "# Convert Date columns to datetime type\n",
    "X['Date'] = pd.to_datetime(X['Date'])\n",
    "X_holdout['Date'] = pd.to_datetime(X_holdout['Date'])"
   ]
  },
  {
   "cell_type": "markdown",
   "metadata": {},
   "source": [
    "---\n",
    "\n",
    "# New Feature Generation"
   ]
  },
  {
   "cell_type": "code",
   "execution_count": 13,
   "metadata": {
    "collapsed": true
   },
   "outputs": [],
   "source": [
    "# Create new features out of Date\n",
    "X['Year'] = X['Date'].map(lambda x: x.year)\n",
    "X['Month'] = X['Date'].map(lambda x: x.month)\n",
    "X['Day'] = X['Date'].map(lambda x: x.day)\n",
    "X['DayofYear'] = X['Date'].map(lambda x: x.dayofyear)\n",
    "\n",
    "X_holdout['Year'] = X_holdout['Date'].map(lambda x: x.year)\n",
    "X_holdout['Month'] = X_holdout['Date'].map(lambda x: x.month)\n",
    "X_holdout['Day'] = X_holdout['Date'].map(lambda x: x.day)\n",
    "X_holdout['DayofYear'] = X_holdout['Date'].map(lambda x: x.dayofyear)"
   ]
  },
  {
   "cell_type": "code",
   "execution_count": 14,
   "metadata": {
    "collapsed": true
   },
   "outputs": [],
   "source": [
    "# Create new feature of Zip Code\n",
    "\n",
    "zipcodes = []\n",
    "for i in X['Address']:\n",
    "    try:\n",
    "        zipcode = re.findall('[\\d][\\d][\\d][\\d][\\d]', i)[0]\n",
    "    except:\n",
    "        zipcode = ''\n",
    "    zipcodes.append(zipcode)\n",
    "    \n",
    "zipcodes_holdout = []\n",
    "for i in X_holdout['Address']:\n",
    "    try:\n",
    "        zipcode = re.findall('[\\d][\\d][\\d][\\d][\\d]', i)[0]\n",
    "    except:\n",
    "        zipcode = ''\n",
    "    zipcodes_holdout.append(zipcode)\n",
    "    \n",
    "X['Zipcode'] = zipcodes\n",
    "X_holdout['Zipcode'] = zipcodes_holdout"
   ]
  },
  {
   "cell_type": "code",
   "execution_count": 15,
   "metadata": {
    "collapsed": true
   },
   "outputs": [],
   "source": [
    "# Convert Block to string type\n",
    "X['Block'] = X['Block'].map(lambda x: str(x))\n",
    "X_holdout['Block'] = X_holdout['Block'].map(lambda x: str(x))\n",
    "\n",
    "X['Year'] = X['Year'].map(lambda x: str(x))\n",
    "X_holdout['Year'] = X_holdout['Year'].map(lambda x: str(x))\n",
    "\n",
    "X['Month'] = X['Month'].map(lambda x: str(x))\n",
    "X_holdout['Month'] = X_holdout['Month'].map(lambda x: str(x))"
   ]
  },
  {
   "cell_type": "code",
   "execution_count": 16,
   "metadata": {
    "collapsed": true,
    "scrolled": true
   },
   "outputs": [],
   "source": [
    "# Count Vectorize some features for X_train\n",
    "\n",
    "cvec_spec = CountVectorizer()\n",
    "X_spec = cvec_spec.fit_transform(X['Species'])\n",
    "X_spec = pd.DataFrame(X_spec.todense(), columns=cvec_spec.get_feature_names())\n",
    "\n",
    "cvec_zip = CountVectorizer()\n",
    "X_zip = cvec_zip.fit_transform(X['Zipcode'])\n",
    "X_zip = pd.DataFrame(X_zip.todense(), columns=cvec_zip.get_feature_names())\n",
    "\n",
    "#cvec_block = CountVectorizer()\n",
    "#X_block = cvec_block.fit_transform(X['Block'])\n",
    "#X_block = pd.DataFrame(X_block.todense(), columns=cvec_block.get_feature_names())\n",
    "\n",
    "cvec_trap = CountVectorizer()\n",
    "X_trap = cvec_trap.fit_transform(X['Trap'])\n",
    "X_trap = pd.DataFrame(X_trap.todense(), columns=cvec_trap.get_feature_names())\n",
    "\n",
    "#cvec_year = CountVectorizer()\n",
    "#X_year = cvec_year.fit_transform(X['Year'])\n",
    "#X_year = pd.DataFrame(X_year.todense(), columns=cvec_year.get_feature_names())\n",
    "\n",
    "cvec_month = CountVectorizer()\n",
    "X_month = cvec_month.fit_transform(X['Month'])\n",
    "X_month = pd.DataFrame(X_month.todense(), columns=cvec_month.get_feature_names())\n",
    "\n",
    "#X = pd.concat([X, X_spec, X_zip, X_block, X_trap, X_year, X_month], axis=1)\n",
    "X = pd.concat([X, X_spec, X_zip, X_trap, X_month], axis=1)"
   ]
  },
  {
   "cell_type": "code",
   "execution_count": 17,
   "metadata": {
    "collapsed": true
   },
   "outputs": [],
   "source": [
    "# Count Vectorize some features for X_test\n",
    "\n",
    "X_holdout_spec = cvec_spec.transform(X_holdout['Species'])\n",
    "X_holdout_spec = pd.DataFrame(X_holdout_spec.todense(), columns=cvec_spec.get_feature_names())\n",
    "\n",
    "X_holdout_zip = cvec_zip.transform(X_holdout['Zipcode'])\n",
    "X_holdout_zip = pd.DataFrame(X_holdout_zip.todense(), columns=cvec_zip.get_feature_names())\n",
    "\n",
    "#X_holdout_block = cvec_block.transform(X_holdout['Block'])\n",
    "#X_holdout_block = pd.DataFrame(X_holdout_block.todense(), columns=cvec_block.get_feature_names())\n",
    "\n",
    "X_holdout_trap = cvec_trap.transform(X_holdout['Trap'])\n",
    "X_holdout_trap = pd.DataFrame(X_holdout_trap.todense(), columns=cvec_trap.get_feature_names())\n",
    "\n",
    "#X_holdout_year = cvec_year.transform(X_holdout['Year'])\n",
    "#X_holdout_year = pd.DataFrame(X_holdout_year.todense(), columns=cvec_year.get_feature_names())\n",
    "\n",
    "X_holdout_month = cvec_month.transform(X_holdout['Trap'])\n",
    "X_holdout_month = pd.DataFrame(X_holdout_month.todense(), columns=cvec_month.get_feature_names())\n",
    "\n",
    "#X_holdout = pd.concat([X_holdout, X_holdout_spec, X_holdout_zip, X_holdout_block, X_holdout_trap,\n",
    "#                      X_holdout_year, X_holdout_month], axis=1)\n",
    "X_holdout = pd.concat([X_holdout, X_holdout_spec, X_holdout_zip, X_holdout_trap, X_holdout_month], axis=1)"
   ]
  },
  {
   "cell_type": "markdown",
   "metadata": {},
   "source": [
    "## Incorporate Weather Data"
   ]
  },
  {
   "cell_type": "code",
   "execution_count": 18,
   "metadata": {
    "collapsed": true
   },
   "outputs": [],
   "source": [
    "weather = pd.read_csv('./weather_odd.csv')\n",
    "weather.drop(['Unnamed: 0', 'Unnamed: 0.1'], axis=1, inplace=True)\n",
    "\n",
    "weather_holdout = pd.read_csv('./weather_even.csv')\n",
    "weather_holdout.drop(['Unnamed: 0', 'Unnamed: 0.1'], axis=1, inplace=True)"
   ]
  },
  {
   "cell_type": "code",
   "execution_count": 19,
   "metadata": {
    "collapsed": true
   },
   "outputs": [],
   "source": [
    "weather['Date'] = pd.to_datetime(weather['Date'])\n",
    "weather_holdout['Date'] = pd.to_datetime(weather_holdout['Date'])"
   ]
  },
  {
   "cell_type": "code",
   "execution_count": 20,
   "metadata": {},
   "outputs": [
    {
     "name": "stdout",
     "output_type": "stream",
     "text": [
      "(729, 40)\n",
      "(735, 40)\n"
     ]
    }
   ],
   "source": [
    "print(weather.shape)\n",
    "print(weather_holdout.shape)"
   ]
  },
  {
   "cell_type": "code",
   "execution_count": 21,
   "metadata": {},
   "outputs": [
    {
     "name": "stdout",
     "output_type": "stream",
     "text": [
      "(10506, 210)\n",
      "(116293, 210)\n"
     ]
    }
   ],
   "source": [
    "print(X.shape)\n",
    "print(X_holdout.shape)"
   ]
  },
  {
   "cell_type": "code",
   "execution_count": 22,
   "metadata": {
    "collapsed": true
   },
   "outputs": [],
   "source": [
    "# Engineer an 'Hours_in_Day' feature\n",
    "\n",
    "sunrise_hrs = []\n",
    "sunrise_mins = []\n",
    "\n",
    "for i in range(len(weather)):\n",
    "    time_tokens = list(str(weather['Sunrise'][i]))\n",
    "    minute = int(time_tokens[-2] + time_tokens[-1])\n",
    "    sunrise_mins.append( minute )\n",
    "    try:\n",
    "        hour = int(time_tokens[-4] + time_tokens[-3])\n",
    "        sunrise_hrs.append( hour )\n",
    "    except:\n",
    "        hour = int(time_tokens[0])\n",
    "        sunrise_hrs.append( hour )\n",
    "        \n",
    "sunset_hrs = []\n",
    "sunset_mins = []\n",
    "\n",
    "for i in range(len(weather)):\n",
    "    time_tokens = list(str(weather['Sunset'][i]))\n",
    "    minute = int(time_tokens[-2] + time_tokens[-1])\n",
    "    sunset_mins.append( minute )\n",
    "    try:\n",
    "        hour = int(time_tokens[-4] + time_tokens[-3])\n",
    "        sunset_hrs.append( hour )\n",
    "    except:\n",
    "        hour = int(time_tokens[0])\n",
    "        sunset_hrs.append( hour )"
   ]
  },
  {
   "cell_type": "code",
   "execution_count": 23,
   "metadata": {
    "collapsed": true
   },
   "outputs": [],
   "source": [
    "weather['Hours_in_Day'] = (sunset_hrs + (np.array(sunset_mins) / 60) - sunrise_hrs + (np.array(sunrise_mins) / 60))"
   ]
  },
  {
   "cell_type": "code",
   "execution_count": 24,
   "metadata": {
    "collapsed": true
   },
   "outputs": [],
   "source": [
    "# Engineer an 'Hours_in_Day' feature in Holdout\n",
    "\n",
    "sunrise_hrs = []\n",
    "sunrise_mins = []\n",
    "\n",
    "for i in range(len(weather_holdout)):\n",
    "    time_tokens = list(str(weather_holdout['Sunrise'][i]))\n",
    "    minute = int(time_tokens[-2] + time_tokens[-1])\n",
    "    sunrise_mins.append( minute )\n",
    "    try:\n",
    "        hour = int(time_tokens[-4] + time_tokens[-3])\n",
    "        sunrise_hrs.append( hour )\n",
    "    except:\n",
    "        hour = int(time_tokens[0])\n",
    "        sunrise_hrs.append( hour )\n",
    "        \n",
    "sunset_hrs = []\n",
    "sunset_mins = []\n",
    "\n",
    "for i in range(len(weather_holdout)):\n",
    "    time_tokens = list(str(weather_holdout['Sunset'][i]))\n",
    "    minute = int(time_tokens[-2] + time_tokens[-1])\n",
    "    sunset_mins.append( minute )\n",
    "    try:\n",
    "        hour = int(time_tokens[-4] + time_tokens[-3])\n",
    "        sunset_hrs.append( hour )\n",
    "    except:\n",
    "        hour = int(time_tokens[0])\n",
    "        sunset_hrs.append( hour )"
   ]
  },
  {
   "cell_type": "code",
   "execution_count": 25,
   "metadata": {
    "collapsed": true
   },
   "outputs": [],
   "source": [
    "weather_holdout['Hours_in_Day'] = (sunset_hrs + (np.array(sunset_mins) / 60) - sunrise_hrs + (np.array(sunrise_mins) / 60))"
   ]
  },
  {
   "cell_type": "code",
   "execution_count": 26,
   "metadata": {
    "collapsed": true
   },
   "outputs": [],
   "source": [
    "X = X.merge(weather, how='left', on='Date')\n",
    "X_holdout = X_holdout.merge(weather_holdout, how='left', on='Date')"
   ]
  },
  {
   "cell_type": "code",
   "execution_count": 27,
   "metadata": {},
   "outputs": [
    {
     "name": "stdout",
     "output_type": "stream",
     "text": [
      "(10506, 250)\n",
      "(116293, 250)\n"
     ]
    }
   ],
   "source": [
    "print(X.shape)\n",
    "print(X_holdout.shape)"
   ]
  },
  {
   "cell_type": "code",
   "execution_count": 28,
   "metadata": {
    "collapsed": true
   },
   "outputs": [],
   "source": [
    "# Let's drop some X\n",
    "drop_cols = ['Date', 'Address', 'Species', 'Street', 'AddressNumberAndStreet', 'AddressAccuracy', 'CodeSum', 'Year_y', \n",
    "             'Month_y', 'Day_y', 'Unnamed: 24', 'Zipcode', 'Block', 'Trap']\n",
    "X.drop(drop_cols, axis=1, inplace=True)\n",
    "X_holdout.drop(drop_cols, axis=1, inplace=True)"
   ]
  },
  {
   "cell_type": "code",
   "execution_count": 29,
   "metadata": {},
   "outputs": [
    {
     "name": "stdout",
     "output_type": "stream",
     "text": [
      "(10506, 236)\n",
      "(116293, 236)\n",
      "(10506,)\n"
     ]
    }
   ],
   "source": [
    "print(X.shape)\n",
    "print(X_holdout.shape)\n",
    "print(y.shape)"
   ]
  },
  {
   "cell_type": "code",
   "execution_count": 30,
   "metadata": {
    "collapsed": true
   },
   "outputs": [],
   "source": [
    "# Will have to balance our classes!!"
   ]
  },
  {
   "cell_type": "code",
   "execution_count": 69,
   "metadata": {
    "collapsed": true
   },
   "outputs": [],
   "source": [
    "X.to_csv('./X_train_clean_v2.csv')\n",
    "X_holdout.to_csv('./X_test_clean_v2.csv')"
   ]
  },
  {
   "cell_type": "markdown",
   "metadata": {},
   "source": [
    "---\n",
    "\n",
    "# Modeling"
   ]
  },
  {
   "cell_type": "code",
   "execution_count": 32,
   "metadata": {
    "collapsed": true
   },
   "outputs": [],
   "source": [
    "from sklearn.ensemble import RandomForestClassifier\n",
    "\n",
    "from sklearn.metrics import classification_report\n",
    "from sklearn.metrics import confusion_matrix\n",
    "from sklearn.metrics import roc_auc_score\n",
    "from sklearn.metrics import roc_curve\n",
    "from sklearn.metrics import auc\n",
    "\n",
    "from sklearn.model_selection import train_test_split\n",
    "from sklearn.model_selection import GridSearchCV\n",
    "from sklearn.model_selection import RandomizedSearchCV\n",
    "from sklearn.model_selection import cross_val_score\n",
    "\n",
    "from sklearn.preprocessing import StandardScaler\n",
    "\n",
    "from operator import itemgetter\n",
    "\n",
    "from imblearn.over_sampling import RandomOverSampler\n",
    "from imblearn.over_sampling import SMOTE\n",
    "\n",
    "import matplotlib.pyplot as plt\n",
    "\n",
    "%matplotlib inline"
   ]
  },
  {
   "cell_type": "markdown",
   "metadata": {},
   "source": [
    "### Baseline Accuracy (Although, we're optimizing for Recall)"
   ]
  },
  {
   "cell_type": "code",
   "execution_count": 33,
   "metadata": {},
   "outputs": [
    {
     "data": {
      "text/plain": [
       "Counter({0: 9955, 1: 551})"
      ]
     },
     "execution_count": 33,
     "metadata": {},
     "output_type": "execute_result"
    }
   ],
   "source": [
    "Counter(y)"
   ]
  },
  {
   "cell_type": "code",
   "execution_count": 34,
   "metadata": {},
   "outputs": [
    {
     "data": {
      "text/plain": [
       "0.9475537787930707"
      ]
     },
     "execution_count": 34,
     "metadata": {},
     "output_type": "execute_result"
    }
   ],
   "source": [
    "baseline = 9955/(551+9955)\n",
    "baseline"
   ]
  },
  {
   "cell_type": "markdown",
   "metadata": {},
   "source": [
    "### Final EDA"
   ]
  },
  {
   "cell_type": "code",
   "execution_count": 35,
   "metadata": {
    "collapsed": true
   },
   "outputs": [],
   "source": [
    "# Can come back and numerate Sunrise-Sunset (to get total daylight hours)\n",
    "drop_cols = ['Id', 'Year_x', 'Month_x', 'Day_x']"
   ]
  },
  {
   "cell_type": "code",
   "execution_count": 36,
   "metadata": {
    "collapsed": true
   },
   "outputs": [],
   "source": [
    "X.drop(drop_cols, axis=1, inplace=True)\n",
    "X_holdout.drop(drop_cols, axis=1, inplace=True)"
   ]
  },
  {
   "cell_type": "code",
   "execution_count": 37,
   "metadata": {},
   "outputs": [
    {
     "name": "stdout",
     "output_type": "stream",
     "text": [
      "(10506, 232)\n",
      "(116293, 232)\n",
      "(10506,)\n"
     ]
    }
   ],
   "source": [
    "print(X.shape)\n",
    "print(X_holdout.shape)\n",
    "print(y.shape)"
   ]
  },
  {
   "cell_type": "code",
   "execution_count": 38,
   "metadata": {
    "scrolled": false
   },
   "outputs": [
    {
     "name": "stdout",
     "output_type": "stream",
     "text": [
      "(10506, 233)\n"
     ]
    },
    {
     "data": {
      "text/html": [
       "<div>\n",
       "<style>\n",
       "    .dataframe thead tr:only-child th {\n",
       "        text-align: right;\n",
       "    }\n",
       "\n",
       "    .dataframe thead th {\n",
       "        text-align: left;\n",
       "    }\n",
       "\n",
       "    .dataframe tbody tr th {\n",
       "        vertical-align: top;\n",
       "    }\n",
       "</style>\n",
       "<table border=\"1\" class=\"dataframe\">\n",
       "  <thead>\n",
       "    <tr style=\"text-align: right;\">\n",
       "      <th></th>\n",
       "      <th>Latitude</th>\n",
       "      <th>Longitude</th>\n",
       "      <th>DayofYear</th>\n",
       "      <th>culex</th>\n",
       "      <th>erraticus</th>\n",
       "      <th>pipiens</th>\n",
       "      <th>restuans</th>\n",
       "      <th>salinarius</th>\n",
       "      <th>tarsalis</th>\n",
       "      <th>territans</th>\n",
       "      <th>...</th>\n",
       "      <th>MIFG</th>\n",
       "      <th>RA</th>\n",
       "      <th>SN</th>\n",
       "      <th>SQ</th>\n",
       "      <th>TS</th>\n",
       "      <th>TSRA</th>\n",
       "      <th>VCFG</th>\n",
       "      <th>VCTS</th>\n",
       "      <th>Hours_in_Day</th>\n",
       "      <th>WnvPresent</th>\n",
       "    </tr>\n",
       "  </thead>\n",
       "  <tbody>\n",
       "    <tr>\n",
       "      <th>0</th>\n",
       "      <td>41.954690</td>\n",
       "      <td>-87.800991</td>\n",
       "      <td>149</td>\n",
       "      <td>1</td>\n",
       "      <td>0</td>\n",
       "      <td>1</td>\n",
       "      <td>1</td>\n",
       "      <td>0</td>\n",
       "      <td>0</td>\n",
       "      <td>0</td>\n",
       "      <td>...</td>\n",
       "      <td>0.0</td>\n",
       "      <td>0.0</td>\n",
       "      <td>0.0</td>\n",
       "      <td>0.0</td>\n",
       "      <td>0.0</td>\n",
       "      <td>0.0</td>\n",
       "      <td>0.0</td>\n",
       "      <td>0.0</td>\n",
       "      <td>15.633333</td>\n",
       "      <td>0</td>\n",
       "    </tr>\n",
       "    <tr>\n",
       "      <th>1</th>\n",
       "      <td>41.954690</td>\n",
       "      <td>-87.800991</td>\n",
       "      <td>149</td>\n",
       "      <td>1</td>\n",
       "      <td>0</td>\n",
       "      <td>0</td>\n",
       "      <td>1</td>\n",
       "      <td>0</td>\n",
       "      <td>0</td>\n",
       "      <td>0</td>\n",
       "      <td>...</td>\n",
       "      <td>0.0</td>\n",
       "      <td>0.0</td>\n",
       "      <td>0.0</td>\n",
       "      <td>0.0</td>\n",
       "      <td>0.0</td>\n",
       "      <td>0.0</td>\n",
       "      <td>0.0</td>\n",
       "      <td>0.0</td>\n",
       "      <td>15.633333</td>\n",
       "      <td>0</td>\n",
       "    </tr>\n",
       "    <tr>\n",
       "      <th>2</th>\n",
       "      <td>41.994991</td>\n",
       "      <td>-87.769279</td>\n",
       "      <td>149</td>\n",
       "      <td>1</td>\n",
       "      <td>0</td>\n",
       "      <td>0</td>\n",
       "      <td>1</td>\n",
       "      <td>0</td>\n",
       "      <td>0</td>\n",
       "      <td>0</td>\n",
       "      <td>...</td>\n",
       "      <td>0.0</td>\n",
       "      <td>0.0</td>\n",
       "      <td>0.0</td>\n",
       "      <td>0.0</td>\n",
       "      <td>0.0</td>\n",
       "      <td>0.0</td>\n",
       "      <td>0.0</td>\n",
       "      <td>0.0</td>\n",
       "      <td>15.633333</td>\n",
       "      <td>0</td>\n",
       "    </tr>\n",
       "    <tr>\n",
       "      <th>3</th>\n",
       "      <td>41.974089</td>\n",
       "      <td>-87.824812</td>\n",
       "      <td>149</td>\n",
       "      <td>1</td>\n",
       "      <td>0</td>\n",
       "      <td>1</td>\n",
       "      <td>1</td>\n",
       "      <td>0</td>\n",
       "      <td>0</td>\n",
       "      <td>0</td>\n",
       "      <td>...</td>\n",
       "      <td>0.0</td>\n",
       "      <td>0.0</td>\n",
       "      <td>0.0</td>\n",
       "      <td>0.0</td>\n",
       "      <td>0.0</td>\n",
       "      <td>0.0</td>\n",
       "      <td>0.0</td>\n",
       "      <td>0.0</td>\n",
       "      <td>15.633333</td>\n",
       "      <td>0</td>\n",
       "    </tr>\n",
       "    <tr>\n",
       "      <th>4</th>\n",
       "      <td>41.974089</td>\n",
       "      <td>-87.824812</td>\n",
       "      <td>149</td>\n",
       "      <td>1</td>\n",
       "      <td>0</td>\n",
       "      <td>0</td>\n",
       "      <td>1</td>\n",
       "      <td>0</td>\n",
       "      <td>0</td>\n",
       "      <td>0</td>\n",
       "      <td>...</td>\n",
       "      <td>0.0</td>\n",
       "      <td>0.0</td>\n",
       "      <td>0.0</td>\n",
       "      <td>0.0</td>\n",
       "      <td>0.0</td>\n",
       "      <td>0.0</td>\n",
       "      <td>0.0</td>\n",
       "      <td>0.0</td>\n",
       "      <td>15.633333</td>\n",
       "      <td>0</td>\n",
       "    </tr>\n",
       "  </tbody>\n",
       "</table>\n",
       "<p>5 rows × 233 columns</p>\n",
       "</div>"
      ],
      "text/plain": [
       "    Latitude  Longitude  DayofYear  culex  erraticus  pipiens  restuans  \\\n",
       "0  41.954690 -87.800991        149      1          0        1         1   \n",
       "1  41.954690 -87.800991        149      1          0        0         1   \n",
       "2  41.994991 -87.769279        149      1          0        0         1   \n",
       "3  41.974089 -87.824812        149      1          0        1         1   \n",
       "4  41.974089 -87.824812        149      1          0        0         1   \n",
       "\n",
       "   salinarius  tarsalis  territans     ...      MIFG   RA   SN   SQ   TS  \\\n",
       "0           0         0          0     ...       0.0  0.0  0.0  0.0  0.0   \n",
       "1           0         0          0     ...       0.0  0.0  0.0  0.0  0.0   \n",
       "2           0         0          0     ...       0.0  0.0  0.0  0.0  0.0   \n",
       "3           0         0          0     ...       0.0  0.0  0.0  0.0  0.0   \n",
       "4           0         0          0     ...       0.0  0.0  0.0  0.0  0.0   \n",
       "\n",
       "   TSRA  VCFG  VCTS  Hours_in_Day  WnvPresent  \n",
       "0   0.0   0.0   0.0     15.633333           0  \n",
       "1   0.0   0.0   0.0     15.633333           0  \n",
       "2   0.0   0.0   0.0     15.633333           0  \n",
       "3   0.0   0.0   0.0     15.633333           0  \n",
       "4   0.0   0.0   0.0     15.633333           0  \n",
       "\n",
       "[5 rows x 233 columns]"
      ]
     },
     "execution_count": 38,
     "metadata": {},
     "output_type": "execute_result"
    }
   ],
   "source": [
    "df = X.join(pd.DataFrame(y))\n",
    "print(df.shape)\n",
    "df.head()"
   ]
  },
  {
   "cell_type": "code",
   "execution_count": 39,
   "metadata": {
    "collapsed": true
   },
   "outputs": [],
   "source": [
    "df.dropna(inplace=True)\n",
    "X = df.drop('WnvPresent', axis=1)\n",
    "y = df['WnvPresent']"
   ]
  },
  {
   "cell_type": "code",
   "execution_count": 40,
   "metadata": {},
   "outputs": [
    {
     "name": "stdout",
     "output_type": "stream",
     "text": [
      "(10413, 232)\n",
      "(10413,)\n",
      "(116293, 232)\n"
     ]
    }
   ],
   "source": [
    "print(X.shape)\n",
    "print(y.shape)\n",
    "print(X_holdout.shape)"
   ]
  },
  {
   "cell_type": "markdown",
   "metadata": {},
   "source": [
    "## Play with Subsetting Features"
   ]
  },
  {
   "cell_type": "code",
   "execution_count": 41,
   "metadata": {
    "collapsed": true
   },
   "outputs": [],
   "source": [
    "#features = ['Latitude', 'Longitude','pipiens', 'restuans', 'salinarius',\n",
    "#            'territans', 'Tmax', 'Tmin', 'Tavg', 'Depart', 'DewPoint', 'WetBulb', 'Heat', 'Cool',\n",
    "#            'PrecipTotal', 'StnPressure', 'SeaLevel', 'ResultSpeed', 'ResultDir', 'AvgSpeed', 'BR', 'DZ',\n",
    "#            'FG', 'HZ', 'RA', 'TS', 'TSRA']\n",
    "\n",
    "#features = [item[0] for item in sorted_importance][0:20]\n",
    "#X = X[features]\n",
    "#X_holdout = X_holdout[features]"
   ]
  },
  {
   "cell_type": "markdown",
   "metadata": {},
   "source": [
    "## Test/Train Split"
   ]
  },
  {
   "cell_type": "code",
   "execution_count": 42,
   "metadata": {
    "collapsed": true
   },
   "outputs": [],
   "source": [
    "X_train, X_test, y_train, y_test = train_test_split(X, y, test_size=0.3, random_state=42, stratify=y)"
   ]
  },
  {
   "cell_type": "code",
   "execution_count": 43,
   "metadata": {
    "collapsed": true
   },
   "outputs": [],
   "source": [
    "ss = StandardScaler()\n",
    "Xs_train = ss.fit_transform(X_train)\n",
    "Xs_test = ss.transform(X_test)"
   ]
  },
  {
   "cell_type": "markdown",
   "metadata": {},
   "source": [
    "### Balance Classes by: Oversampling (SMOTE)"
   ]
  },
  {
   "cell_type": "code",
   "execution_count": 44,
   "metadata": {
    "collapsed": true
   },
   "outputs": [],
   "source": [
    "#oversampling on training data only, to prevent leakage to testing data (from Ravi)\n",
    "sm = SMOTE(random_state=42, ratio = 'minority')\n",
    "X_res, y_res = sm.fit_sample(Xs_train, y_train)"
   ]
  },
  {
   "cell_type": "code",
   "execution_count": 45,
   "metadata": {},
   "outputs": [
    {
     "name": "stdout",
     "output_type": "stream",
     "text": [
      "(13806, 232)\n",
      "(13806,)\n"
     ]
    }
   ],
   "source": [
    "print(X_res.shape)\n",
    "print(y_res.shape)"
   ]
  },
  {
   "cell_type": "markdown",
   "metadata": {},
   "source": [
    "### Test/Train Split again on Training Data, and Oversample on Training_2"
   ]
  },
  {
   "cell_type": "code",
   "execution_count": 46,
   "metadata": {
    "collapsed": true
   },
   "outputs": [],
   "source": [
    "X_train_2, X_test_2, y_train_2, y_test_2 = train_test_split(X_res, y_res, test_size=0.3, random_state=42, stratify=y_res)"
   ]
  },
  {
   "cell_type": "code",
   "execution_count": 47,
   "metadata": {},
   "outputs": [
    {
     "name": "stdout",
     "output_type": "stream",
     "text": [
      "(9664, 232)\n",
      "(9664,)\n",
      "(4142, 232)\n",
      "(4142,)\n"
     ]
    }
   ],
   "source": [
    "print(X_train_2.shape)\n",
    "print(y_train_2.shape)\n",
    "print(X_test_2.shape)\n",
    "print(y_test_2.shape)"
   ]
  },
  {
   "cell_type": "markdown",
   "metadata": {},
   "source": [
    "### Random Forest"
   ]
  },
  {
   "cell_type": "code",
   "execution_count": 48,
   "metadata": {},
   "outputs": [
    {
     "data": {
      "text/plain": [
       "RandomForestClassifier(bootstrap=True, class_weight=None, criterion='gini',\n",
       "            max_depth=None, max_features='auto', max_leaf_nodes=None,\n",
       "            min_impurity_decrease=0.0, min_impurity_split=None,\n",
       "            min_samples_leaf=1, min_samples_split=2,\n",
       "            min_weight_fraction_leaf=0.0, n_estimators=10, n_jobs=1,\n",
       "            oob_score=False, random_state=42, verbose=0, warm_start=False)"
      ]
     },
     "execution_count": 48,
     "metadata": {},
     "output_type": "execute_result"
    }
   ],
   "source": [
    "rf = RandomForestClassifier(random_state=42)\n",
    "rf.fit(X_train_2, y_train_2)"
   ]
  },
  {
   "cell_type": "code",
   "execution_count": 49,
   "metadata": {},
   "outputs": [
    {
     "name": "stdout",
     "output_type": "stream",
     "text": [
      "             precision    recall  f1-score   support\n",
      "\n",
      "          0       0.96      0.97      0.96      2959\n",
      "          1       0.25      0.19      0.22       165\n",
      "\n",
      "avg / total       0.92      0.93      0.92      3124\n",
      "\n"
     ]
    },
    {
     "data": {
      "text/html": [
       "<div>\n",
       "<style>\n",
       "    .dataframe thead tr:only-child th {\n",
       "        text-align: right;\n",
       "    }\n",
       "\n",
       "    .dataframe thead th {\n",
       "        text-align: left;\n",
       "    }\n",
       "\n",
       "    .dataframe tbody tr th {\n",
       "        vertical-align: top;\n",
       "    }\n",
       "</style>\n",
       "<table border=\"1\" class=\"dataframe\">\n",
       "  <thead>\n",
       "    <tr style=\"text-align: right;\">\n",
       "      <th></th>\n",
       "      <th>Pred -</th>\n",
       "      <th>Pred +</th>\n",
       "    </tr>\n",
       "  </thead>\n",
       "  <tbody>\n",
       "    <tr>\n",
       "      <th>Act -</th>\n",
       "      <td>2862</td>\n",
       "      <td>97</td>\n",
       "    </tr>\n",
       "    <tr>\n",
       "      <th>Act +</th>\n",
       "      <td>133</td>\n",
       "      <td>32</td>\n",
       "    </tr>\n",
       "  </tbody>\n",
       "</table>\n",
       "</div>"
      ],
      "text/plain": [
       "       Pred -  Pred +\n",
       "Act -    2862      97\n",
       "Act +     133      32"
      ]
     },
     "execution_count": 49,
     "metadata": {},
     "output_type": "execute_result"
    }
   ],
   "source": [
    "y_preds = rf.predict(Xs_test)\n",
    "print(classification_report(y_test, y_preds))\n",
    "pd.DataFrame(confusion_matrix(y_test, y_preds), columns=['Pred -', 'Pred +'], index=['Act -', 'Act +'])"
   ]
  },
  {
   "cell_type": "code",
   "execution_count": 50,
   "metadata": {
    "scrolled": true
   },
   "outputs": [
    {
     "data": {
      "text/plain": [
       "[('Sunset', 0.08381325068431573),\n",
       " ('DayofYear', 0.08155804816546172),\n",
       " ('pipiens', 0.07532999447955298),\n",
       " ('Hours_in_Day', 0.05566806830980986),\n",
       " ('restuans', 0.0471256988115619),\n",
       " ('Sunrise', 0.04055205919003505),\n",
       " ('Depart', 0.03702912600022774),\n",
       " ('Longitude', 0.03547963500910475),\n",
       " ('WetBulb', 0.035472487335804215),\n",
       " ('Latitude', 0.03422500463165259),\n",
       " ('Tmin', 0.03415991181837901),\n",
       " ('ResultSpeed', 0.03004490807520786),\n",
       " ('Cool', 0.02904194702257588),\n",
       " ('StnPressure', 0.02608463253769263),\n",
       " ('Tavg', 0.02403075502059367),\n",
       " ('SeaLevel', 0.021692164576107297),\n",
       " ('ResultDir', 0.02165632691282622),\n",
       " ('t900', 0.020509022716558703),\n",
       " ('Tmax', 0.02015355939148219),\n",
       " ('DewPoint', 0.019808134126902),\n",
       " ('AvgSpeed', 0.019739932115690948),\n",
       " ('PrecipTotal', 0.0154439931964862),\n",
       " ('t115', 0.01444888235484674),\n",
       " ('BR', 0.01406683974629368),\n",
       " ('RA', 0.013972531937608163),\n",
       " ('60666', 0.011079090555423252),\n",
       " ('TSRA', 0.009980876543461564),\n",
       " ('HZ', 0.0060296807750488575),\n",
       " ('TS', 0.004506523634741648),\n",
       " ('60617', 0.004003968237748268),\n",
       " ('t002', 0.0033639182127360853),\n",
       " ('60638', 0.0027203556458303014),\n",
       " ('60609', 0.002609482972302373),\n",
       " ('60634', 0.002552021558749438),\n",
       " ('60651', 0.0024047418223189323),\n",
       " ('t138', 0.0021771500791982175),\n",
       " ('60646', 0.0021403476821961623),\n",
       " ('territans', 0.002102375496183222),\n",
       " ('60655', 0.002090882123558145),\n",
       " ('10', 0.002070453431812477),\n",
       " ('t013', 0.0020696295965847906),\n",
       " ('t228', 0.002049121848394565),\n",
       " ('60639', 0.0020164370941902717),\n",
       " ('Heat', 0.0019222316441387618),\n",
       " ('t065', 0.0018972846349875829),\n",
       " ('t225', 0.0018921570849084208),\n",
       " ('60652', 0.0018236277950165712),\n",
       " ('t008', 0.0016960489718737218),\n",
       " ('t003', 0.0016215296549753593),\n",
       " ('t230', 0.0015431855863698028),\n",
       " ('t143', 0.001542522735494589),\n",
       " ('t009', 0.0015226661238231872),\n",
       " ('t235', 0.001451716428220225),\n",
       " ('t212', 0.0014220439738608438),\n",
       " ('t155', 0.0013931432136272668),\n",
       " ('60632', 0.001277395655785602),\n",
       " ('t158', 0.0012683886863478577),\n",
       " ('60106', 0.00126231976820926),\n",
       " ('60618', 0.0011831405450531502),\n",
       " ('60633', 0.0011454308654982623),\n",
       " ('60622', 0.0011113794526239381),\n",
       " ('t223', 0.0011077102260594475),\n",
       " ('60631', 0.001105358544761732),\n",
       " ('t147', 0.001077187144656008),\n",
       " ('VCTS', 0.0010755174317629668),\n",
       " ('60643', 0.0010106401670293666),\n",
       " ('60608', 0.0009881506564523063),\n",
       " ('60656', 0.0009142424639541974),\n",
       " ('t086', 0.0009091548277298815),\n",
       " ('t070', 0.0008861229813453695),\n",
       " ('60623', 0.0008850004873895863),\n",
       " ('60707', 0.0008738820537695417),\n",
       " ('60612', 0.0008734377274677452),\n",
       " ('t082', 0.0008656097212553369),\n",
       " ('t027', 0.0008332482312411198),\n",
       " ('t011', 0.0008304108029399306),\n",
       " ('t226', 0.000812995885123378),\n",
       " ('t031', 0.0007979581253681293),\n",
       " ('t094', 0.0007836975531440313),\n",
       " ('t030', 0.0007774372910430709),\n",
       " ('t095', 0.0007703891429275821),\n",
       " ('60659', 0.0007650477555200062),\n",
       " ('t096', 0.000742535737689002),\n",
       " ('t061', 0.0007362546093589953),\n",
       " ('t233', 0.0007310763805210047),\n",
       " ('t039', 0.0007135919306198472),\n",
       " ('t081', 0.0007006138047811976),\n",
       " ('t215', 0.0006922963130470818),\n",
       " ('t073', 0.0006895877805365925),\n",
       " ('60621', 0.0006752224393874872),\n",
       " ('60803', 0.0006721275654316518),\n",
       " ('t220', 0.0006708366280196475),\n",
       " ('60637', 0.0006682969526440293),\n",
       " ('60630', 0.0006515162987804134),\n",
       " ('t903', 0.0006347293506484781),\n",
       " ('60614', 0.0006330630547508251),\n",
       " ('t048', 0.0006307907410184387),\n",
       " ('t151', 0.0006229062114944722),\n",
       " ('t227', 0.000613430709155062),\n",
       " ('t066', 0.0006084696324569973),\n",
       " ('t054', 0.0005980164063606006),\n",
       " ('t128', 0.0005797278334392726),\n",
       " ('t159', 0.0005794360715458362),\n",
       " ('t033', 0.0005718707224991879),\n",
       " ('60629', 0.0005638566179120633),\n",
       " ('60654', 0.000563757595877877),\n",
       " ('t200', 0.0005548184751342914),\n",
       " ('DZ', 0.0005515951080882159),\n",
       " ('t221', 0.0005326700544229414),\n",
       " ('t114', 0.0005208048333528004),\n",
       " ('t232', 0.0005099265858099497),\n",
       " ('t085', 0.0005008194284751077),\n",
       " ('t145', 0.0004953347704220581),\n",
       " ('60620', 0.00048785209650148225),\n",
       " ('t135', 0.00048508533486029456),\n",
       " ('t015', 0.0004678747435162463),\n",
       " ('t074', 0.0004654976105112387),\n",
       " ('t102', 0.0004646501901288777),\n",
       " ('t014', 0.0004596372027453026),\n",
       " ('t028', 0.00043680809561213644),\n",
       " ('t054c', 0.00042620280334496166),\n",
       " ('t152', 0.00042597750236327556),\n",
       " ('60625', 0.00042570624332882083),\n",
       " ('t209', 0.0004244512595278951),\n",
       " ('t103', 0.00041834835100741294),\n",
       " ('salinarius', 0.0004005394693467086),\n",
       " ('t156', 0.00038251797455136644),\n",
       " ('t107', 0.00038160038970092296),\n",
       " ('t160', 0.00037491085015098076),\n",
       " ('t047', 0.0003734818686394602),\n",
       " ('t035', 0.00036462762207953824),\n",
       " ('60626', 0.00035183724168988216),\n",
       " ('t153', 0.00033764671913699663),\n",
       " ('t012', 0.0003318221718443186),\n",
       " ('t144', 0.0003259137528853931),\n",
       " ('60641', 0.0003029022679352697),\n",
       " ('t062', 0.00029692817898110084),\n",
       " ('t222', 0.0002803600370392),\n",
       " ('t236', 0.00026993670677148864),\n",
       " ('60607', 0.0002696341703345473),\n",
       " ('t080', 0.00026701246718028855),\n",
       " ('t089', 0.0002656870352668904),\n",
       " ('t083', 0.00026391892985027195),\n",
       " ('t162', 0.00025850604762687774),\n",
       " ('t077', 0.0002563582588353265),\n",
       " ('t224', 0.0002475468288833522),\n",
       " ('60018', 0.0002473967552951594),\n",
       " ('t063', 0.00023654622036326607),\n",
       " ('t097', 0.0002317275514255684),\n",
       " ('t231', 0.0002072278301523438),\n",
       " ('60628', 0.00020114100981463264),\n",
       " ('60613', 0.00019440389672691988),\n",
       " ('t016', 0.00018927700586636497),\n",
       " ('60619', 0.00018431893432580845),\n",
       " ('t218', 0.0001812612457808609),\n",
       " ('t079', 0.00018036756376821962),\n",
       " ('t043', 0.00017865678448761394),\n",
       " ('60640', 0.00017243514994811867),\n",
       " ('t091', 0.00016986979932586855),\n",
       " ('t067', 0.0001584997514458263),\n",
       " ('60660', 0.00015646713001020627),\n",
       " ('t090', 0.00015452587382972402),\n",
       " ('60827', 0.00015298761038125267),\n",
       " ('t099', 0.00014698904033723362),\n",
       " ('t161', 0.00013912557847570606),\n",
       " ('t219', 0.00013424824903832908),\n",
       " ('t025', 0.00012288464962787666),\n",
       " ('t092', 0.0001207258721738355),\n",
       " ('FG', 0.00011720068671295201),\n",
       " ('60605', 0.00010435001924551218),\n",
       " ('t060', 0.0001039343101787554),\n",
       " ('t206', 9.998349310670463e-05),\n",
       " ('t017', 9.641517739746696e-05),\n",
       " ('t142', 9.130879084350005e-05),\n",
       " ('t084', 9.130688496201272e-05),\n",
       " ('t100', 8.995986095627884e-05),\n",
       " ('t069', 8.286653511444087e-05),\n",
       " ('t045', 8.250244808944726e-05),\n",
       " ('t149', 7.77715697955562e-05),\n",
       " ('60642', 7.207442501194946e-05),\n",
       " ('60636', 6.598758699225538e-05),\n",
       " ('t049', 6.358548982584401e-05),\n",
       " ('t019', 6.157381391266613e-05),\n",
       " ('t141', 6.130708571464872e-05),\n",
       " ('t071', 5.7076557816986904e-05),\n",
       " ('60649', 5.5145312213488706e-05),\n",
       " ('t154', 5.259273585986351e-05),\n",
       " ('t129', 5.249744963843884e-05),\n",
       " ('t037', 5.0890792308837004e-05),\n",
       " ('t046', 5.05409554170402e-05),\n",
       " ('60645', 4.2068080158318315e-05),\n",
       " ('t148', 3.39228157754571e-05),\n",
       " ('t005', 2.7853320681611232e-05),\n",
       " ('t150', 2.7318767687049704e-05),\n",
       " ('60615', 2.2106535222166298e-05),\n",
       " ('t075', 1.806278622073564e-05),\n",
       " ('t146', 1.7366221179382636e-05),\n",
       " ('t036', 1.5151318568366452e-05),\n",
       " ('t004', 1.4963678183381783e-05),\n",
       " ('60611', 8.7691954484636e-06),\n",
       " ('t078', 7.907047396692139e-06),\n",
       " ('t018', 6.603983867468559e-06),\n",
       " ('t072', 5.336111809146273e-06),\n",
       " ('t094b', 4.652806815716495e-06),\n",
       " ('t088', 3.816815221482531e-06),\n",
       " ('60647', 2.235037629928625e-06),\n",
       " ('t051', 1.339639073736012e-06),\n",
       " ('t157', 1.105592976262368e-06),\n",
       " ('t076', 1.015831457235355e-06),\n",
       " ('t044', 7.108248213146953e-07),\n",
       " ('t050', 3.4699189498469015e-07),\n",
       " ('t006', 1.972005332891435e-07),\n",
       " ('t001', 4.9328791479180164e-08),\n",
       " ('culex', 0.0),\n",
       " ('erraticus', 0.0),\n",
       " ('tarsalis', 0.0),\n",
       " ('t007', 0.0),\n",
       " ('t034', 0.0),\n",
       " ('t040', 0.0),\n",
       " ('t229', 0.0),\n",
       " ('t237', 0.0),\n",
       " ('t238', 0.0),\n",
       " ('Station', 0.0),\n",
       " ('SnowFall', 0.0),\n",
       " ('BCFG', 0.0),\n",
       " ('FG+', 0.0),\n",
       " ('FU', 0.0),\n",
       " ('GR', 0.0),\n",
       " ('MIFG', 0.0),\n",
       " ('SN', 0.0),\n",
       " ('SQ', 0.0),\n",
       " ('VCFG', 0.0)]"
      ]
     },
     "execution_count": 50,
     "metadata": {},
     "output_type": "execute_result"
    }
   ],
   "source": [
    "zipped = list(zip(X_train.columns, rf.feature_importances_))\n",
    "sorted_importance = sorted(zipped, key=itemgetter(1), reverse=True)\n",
    "sorted_importance"
   ]
  },
  {
   "cell_type": "code",
   "execution_count": 51,
   "metadata": {},
   "outputs": [
    {
     "data": {
      "text/plain": [
       "0.730761825760136"
      ]
     },
     "execution_count": 51,
     "metadata": {},
     "output_type": "execute_result"
    }
   ],
   "source": [
    "proba_pairs = rf.predict_proba(Xs_test)\n",
    "probas = [item[1] for item in proba_pairs]\n",
    "roc_auc_score(y_test, probas)"
   ]
  },
  {
   "cell_type": "markdown",
   "metadata": {},
   "source": [
    "### Random Forest with Gridsearch"
   ]
  },
  {
   "cell_type": "code",
   "execution_count": 52,
   "metadata": {
    "collapsed": true
   },
   "outputs": [],
   "source": [
    "from sklearn.metrics import make_scorer"
   ]
  },
  {
   "cell_type": "code",
   "execution_count": 53,
   "metadata": {
    "collapsed": true
   },
   "outputs": [],
   "source": [
    "def custom_recall(y_true, y_pred, labels=None, pos_label=1, average='binary', sample_weight=None):\n",
    "    TP = 0\n",
    "    FN = 0\n",
    "    FP = 0\n",
    "    TN = 0\n",
    "    y_pred = list(y_pred)\n",
    "    y_true = list(y_true)\n",
    "    \n",
    "    for i in range(len(y_true)):\n",
    "        if y_true[i] == 1 and y_pred[i] == 1:\n",
    "            TP += 1\n",
    "        if y_true[i] == 1 and y_pred[i] == 0:\n",
    "            FN += 1\n",
    "        if y_true[i] == 0 and y_pred[i] == 1:\n",
    "            FP += 1\n",
    "        if y_pred[i] == 0 and y_pred[i] == 0:\n",
    "            TN += 1\n",
    "    return(TP / (TP + FN))"
   ]
  },
  {
   "cell_type": "code",
   "execution_count": 54,
   "metadata": {
    "collapsed": true
   },
   "outputs": [],
   "source": [
    "my_scorer = make_scorer(custom_recall)"
   ]
  },
  {
   "cell_type": "code",
   "execution_count": 55,
   "metadata": {},
   "outputs": [
    {
     "data": {
      "text/plain": [
       "GridSearchCV(cv=5, error_score='raise',\n",
       "       estimator=RandomForestClassifier(bootstrap=True, class_weight=None, criterion='gini',\n",
       "            max_depth=None, max_features='auto', max_leaf_nodes=None,\n",
       "            min_impurity_decrease=0.0, min_impurity_split=None,\n",
       "            min_samples_leaf=1, min_samples_split=2,\n",
       "            min_weight_fraction_leaf=0.0, n_estimators=10, n_jobs=1,\n",
       "            oob_score=False, random_state=None, verbose=0,\n",
       "            warm_start=False),\n",
       "       fit_params=None, iid=True, n_jobs=1,\n",
       "       param_grid={'n_estimators': [2, 5, 10, 15, 25], 'criterion': ['gini', 'entropy'], 'max_depth': [2, 5, 10, 20, None], 'min_samples_split': [2, 5, 10], 'random_state': [42]},\n",
       "       pre_dispatch='2*n_jobs', refit=True, return_train_score='warn',\n",
       "       scoring=make_scorer(custom_recall), verbose=0)"
      ]
     },
     "execution_count": 55,
     "metadata": {},
     "output_type": "execute_result"
    }
   ],
   "source": [
    "rt_params = {'n_estimators':[2,5,10,15,25],\n",
    "            'criterion':['gini','entropy'],\n",
    "            'max_depth':[2,5,10,20,None],\n",
    "            'min_samples_split':[2,5,10],\n",
    "            'random_state':[42]}\n",
    "\n",
    "rt_grid = GridSearchCV(RandomForestClassifier(), rt_params, scoring=my_scorer, cv=5)\n",
    "rt_grid.fit(X_train_2, y_train_2)"
   ]
  },
  {
   "cell_type": "code",
   "execution_count": 56,
   "metadata": {},
   "outputs": [
    {
     "name": "stdout",
     "output_type": "stream",
     "text": [
      "             precision    recall  f1-score   support\n",
      "\n",
      "          0       0.97      0.84      0.90      2959\n",
      "          1       0.17      0.59      0.27       165\n",
      "\n",
      "avg / total       0.93      0.83      0.87      3124\n",
      "\n"
     ]
    },
    {
     "data": {
      "text/html": [
       "<div>\n",
       "<style>\n",
       "    .dataframe thead tr:only-child th {\n",
       "        text-align: right;\n",
       "    }\n",
       "\n",
       "    .dataframe thead th {\n",
       "        text-align: left;\n",
       "    }\n",
       "\n",
       "    .dataframe tbody tr th {\n",
       "        vertical-align: top;\n",
       "    }\n",
       "</style>\n",
       "<table border=\"1\" class=\"dataframe\">\n",
       "  <thead>\n",
       "    <tr style=\"text-align: right;\">\n",
       "      <th></th>\n",
       "      <th>Pred -</th>\n",
       "      <th>Pred +</th>\n",
       "    </tr>\n",
       "  </thead>\n",
       "  <tbody>\n",
       "    <tr>\n",
       "      <th>Act -</th>\n",
       "      <td>2498</td>\n",
       "      <td>461</td>\n",
       "    </tr>\n",
       "    <tr>\n",
       "      <th>Act +</th>\n",
       "      <td>68</td>\n",
       "      <td>97</td>\n",
       "    </tr>\n",
       "  </tbody>\n",
       "</table>\n",
       "</div>"
      ],
      "text/plain": [
       "       Pred -  Pred +\n",
       "Act -    2498     461\n",
       "Act +      68      97"
      ]
     },
     "execution_count": 56,
     "metadata": {},
     "output_type": "execute_result"
    }
   ],
   "source": [
    "y_preds = rt_grid.predict(Xs_test)\n",
    "print(classification_report(y_test, y_preds))\n",
    "pd.DataFrame(confusion_matrix(y_test, y_preds), columns=['Pred -', 'Pred +'], index=['Act -', 'Act +'])"
   ]
  },
  {
   "cell_type": "code",
   "execution_count": 57,
   "metadata": {},
   "outputs": [
    {
     "data": {
      "text/plain": [
       "{'criterion': 'entropy',\n",
       " 'max_depth': 10,\n",
       " 'min_samples_split': 5,\n",
       " 'n_estimators': 15,\n",
       " 'random_state': 42}"
      ]
     },
     "execution_count": 57,
     "metadata": {},
     "output_type": "execute_result"
    }
   ],
   "source": [
    "rt_grid.best_params_"
   ]
  },
  {
   "cell_type": "code",
   "execution_count": 58,
   "metadata": {},
   "outputs": [
    {
     "data": {
      "text/plain": [
       "0.8077483179206735"
      ]
     },
     "execution_count": 58,
     "metadata": {},
     "output_type": "execute_result"
    }
   ],
   "source": [
    "proba_pairs = rt_grid.predict_proba(Xs_test)\n",
    "probas = [item[1] for item in proba_pairs]\n",
    "roc_auc_score(y_test, probas)"
   ]
  },
  {
   "cell_type": "markdown",
   "metadata": {},
   "source": [
    "### Random Trees with Random Search"
   ]
  },
  {
   "cell_type": "code",
   "execution_count": 59,
   "metadata": {},
   "outputs": [
    {
     "data": {
      "text/plain": [
       "RandomizedSearchCV(cv=5, error_score='raise',\n",
       "          estimator=RandomForestClassifier(bootstrap=True, class_weight=None, criterion='gini',\n",
       "            max_depth=None, max_features='auto', max_leaf_nodes=None,\n",
       "            min_impurity_decrease=0.0, min_impurity_split=None,\n",
       "            min_samples_leaf=1, min_samples_split=2,\n",
       "            min_weight_fraction_leaf=0.0, n_estimators=10, n_jobs=1,\n",
       "            oob_score=False, random_state=None, verbose=0,\n",
       "            warm_start=False),\n",
       "          fit_params=None, iid=True, n_iter=50, n_jobs=1,\n",
       "          param_distributions={'n_estimators': [2, 5, 10, 15, 25], 'criterion': ['gini', 'entropy'], 'max_depth': [2, 5, 10, 20, None], 'min_samples_split': [2, 5, 10], 'random_state': [42]},\n",
       "          pre_dispatch='2*n_jobs', random_state=42, refit=True,\n",
       "          return_train_score='warn', scoring=make_scorer(custom_recall),\n",
       "          verbose=0)"
      ]
     },
     "execution_count": 59,
     "metadata": {},
     "output_type": "execute_result"
    }
   ],
   "source": [
    "rt_rand = RandomizedSearchCV(RandomForestClassifier(), rt_params, scoring=my_scorer, cv=5, n_iter=50, random_state=42)\n",
    "rt_rand.fit(X_train_2, y_train_2)"
   ]
  },
  {
   "cell_type": "code",
   "execution_count": 60,
   "metadata": {},
   "outputs": [
    {
     "name": "stdout",
     "output_type": "stream",
     "text": [
      "             precision    recall  f1-score   support\n",
      "\n",
      "          0       0.97      0.87      0.92      2959\n",
      "          1       0.19      0.52      0.27       165\n",
      "\n",
      "avg / total       0.93      0.85      0.88      3124\n",
      "\n"
     ]
    },
    {
     "data": {
      "text/html": [
       "<div>\n",
       "<style>\n",
       "    .dataframe thead tr:only-child th {\n",
       "        text-align: right;\n",
       "    }\n",
       "\n",
       "    .dataframe thead th {\n",
       "        text-align: left;\n",
       "    }\n",
       "\n",
       "    .dataframe tbody tr th {\n",
       "        vertical-align: top;\n",
       "    }\n",
       "</style>\n",
       "<table border=\"1\" class=\"dataframe\">\n",
       "  <thead>\n",
       "    <tr style=\"text-align: right;\">\n",
       "      <th></th>\n",
       "      <th>Pred -</th>\n",
       "      <th>Pred +</th>\n",
       "    </tr>\n",
       "  </thead>\n",
       "  <tbody>\n",
       "    <tr>\n",
       "      <th>Act -</th>\n",
       "      <td>2582</td>\n",
       "      <td>377</td>\n",
       "    </tr>\n",
       "    <tr>\n",
       "      <th>Act +</th>\n",
       "      <td>79</td>\n",
       "      <td>86</td>\n",
       "    </tr>\n",
       "  </tbody>\n",
       "</table>\n",
       "</div>"
      ],
      "text/plain": [
       "       Pred -  Pred +\n",
       "Act -    2582     377\n",
       "Act +      79      86"
      ]
     },
     "execution_count": 60,
     "metadata": {},
     "output_type": "execute_result"
    }
   ],
   "source": [
    "y_preds = rt_rand.predict(Xs_test)\n",
    "print(classification_report(y_test, y_preds))\n",
    "pd.DataFrame(confusion_matrix(y_test, y_preds), columns=['Pred -', 'Pred +'], index=['Act -', 'Act +'])"
   ]
  },
  {
   "cell_type": "code",
   "execution_count": 61,
   "metadata": {},
   "outputs": [
    {
     "data": {
      "text/plain": [
       "{'criterion': 'entropy',\n",
       " 'max_depth': 10,\n",
       " 'min_samples_split': 2,\n",
       " 'n_estimators': 25,\n",
       " 'random_state': 42}"
      ]
     },
     "execution_count": 61,
     "metadata": {},
     "output_type": "execute_result"
    }
   ],
   "source": [
    "rt_rand.best_params_"
   ]
  },
  {
   "cell_type": "code",
   "execution_count": 62,
   "metadata": {},
   "outputs": [
    {
     "data": {
      "text/plain": [
       "0.8089649451596055"
      ]
     },
     "execution_count": 62,
     "metadata": {},
     "output_type": "execute_result"
    }
   ],
   "source": [
    "proba_pairs = rt_rand.predict_proba(Xs_test)\n",
    "probas = [item[1] for item in proba_pairs]\n",
    "roc_auc_score(y_test, probas)"
   ]
  },
  {
   "cell_type": "markdown",
   "metadata": {},
   "source": [
    "## AUC-ROC Curve"
   ]
  },
  {
   "cell_type": "code",
   "execution_count": 63,
   "metadata": {},
   "outputs": [
    {
     "data": {
      "image/png": "[encoded data removed]",
      "text/plain": [
       "<matplotlib.figure.Figure at 0x10fd11eb8>"
      ]
     },
     "metadata": {},
     "output_type": "display_data"
    }
   ],
   "source": [
    "fpr, tpr, threshold = roc_curve(y_test, probas)\n",
    "roc_auc = auc(fpr, tpr)\n",
    "\n",
    "fix, ax = plt.subplots(figsize=(14,10))\n",
    "\n",
    "plt.title('Receiver Operating Characteristic', fontsize=20)\n",
    "plt.plot(fpr, tpr, 'b', label = 'AUC = %0.2f' % roc_auc)\n",
    "plt.legend(loc = 'lower right', fontsize=14)\n",
    "plt.plot([0, 1], [0, 1],'r--')\n",
    "plt.xlim([0, 1])\n",
    "plt.ylim([0, 1])\n",
    "plt.ylabel('True Positive Rate', fontsize=16)\n",
    "plt.xlabel('False Positive Rate', fontsize=16)\n",
    "plt.show()"
   ]
  },
  {
   "cell_type": "markdown",
   "metadata": {},
   "source": [
    "## Kaggle Submission"
   ]
  },
  {
   "cell_type": "code",
   "execution_count": 267,
   "metadata": {
    "collapsed": true
   },
   "outputs": [],
   "source": [
    "Xs_holdout = ss.transform(X_holdout)"
   ]
  },
  {
   "cell_type": "code",
   "execution_count": 268,
   "metadata": {
    "collapsed": true
   },
   "outputs": [],
   "source": [
    "proba_pairs = rt_rand.predict_proba(Xs_holdout)\n",
    "probas = [item[1] for item in proba_pairs]"
   ]
  },
  {
   "cell_type": "code",
   "execution_count": 361,
   "metadata": {
    "collapsed": true
   },
   "outputs": [],
   "source": [
    "submission = pd.DataFrame(probas)"
   ]
  },
  {
   "cell_type": "code",
   "execution_count": 271,
   "metadata": {
    "collapsed": true
   },
   "outputs": [],
   "source": [
    "submission.index += 1"
   ]
  },
  {
   "cell_type": "code",
   "execution_count": 363,
   "metadata": {
    "collapsed": true
   },
   "outputs": [],
   "source": [
    "# Manually entire 'Id', 'WnvPresent'\n",
    "submission.to_csv('./kaggle_submission_1.csv')"
   ]
  },
  {
   "cell_type": "code",
   "execution_count": 299,
   "metadata": {
    "collapsed": true
   },
   "outputs": [],
   "source": [
    "Xs_holdout = ss.transform(X_holdout)\n",
    "proba_pairs = rt_rand.predict_proba(Xs_holdout)\n",
    "probas = [item[1] for item in proba_pairs]\n",
    "submission = pd.DataFrame(probas)\n",
    "submission.index += 1\n",
    "submission.to_csv('./kaggle_submission_2.csv')"
   ]
  },
  {
   "cell_type": "markdown",
   "metadata": {},
   "source": [
    "### Output to try Neural Net"
   ]
  },
  {
   "cell_type": "code",
   "execution_count": 68,
   "metadata": {},
   "outputs": [],
   "source": [
    "X_train.to_csv('./temp/X_train.csv')\n",
    "X_test.to_csv('./temp/X_test.csv')\n",
    "pd.DataFrame(Xs_train).to_csv('./temp/Xs_train.csv')\n",
    "pd.DataFrame(Xs_test).to_csv('./temp/Xs_test.csv')\n",
    "pd.DataFrame(X_train_2).to_csv('./temp/X_train_2')\n",
    "pd.DataFrame(y_train_2).to_csv('./temp/y_train_2')"
   ]
  },
  {
   "cell_type": "markdown",
   "metadata": {},
   "source": [
    "## Keras Neural Net"
   ]
  },
  {
   "cell_type": "code",
   "execution_count": 1,
   "metadata": {},
   "outputs": [
    {
     "name": "stderr",
     "output_type": "stream",
     "text": [
      "Using TensorFlow backend.\n"
     ]
    }
   ],
   "source": [
    "from keras.models import Sequential\n",
    "from keras.layers import Dense"
   ]
  },
  {
   "cell_type": "code",
   "execution_count": 2,
   "metadata": {},
   "outputs": [
    {
     "ename": "NameError",
     "evalue": "name 'X_train_2' is not defined",
     "output_type": "error",
     "traceback": [
      "\u001b[0;31m---------------------------------------------------------------------------\u001b[0m",
      "\u001b[0;31mNameError\u001b[0m                                 Traceback (most recent call last)",
      "\u001b[0;32m<ipython-input-2-edd27c14833c>\u001b[0m in \u001b[0;36m<module>\u001b[0;34m()\u001b[0m\n\u001b[0;32m----> 1\u001b[0;31m \u001b[0mX_train_2\u001b[0m\u001b[0;34m.\u001b[0m\u001b[0mhead\u001b[0m\u001b[0;34m(\u001b[0m\u001b[0;34m)\u001b[0m\u001b[0;34m\u001b[0m\u001b[0m\n\u001b[0m",
      "\u001b[0;31mNameError\u001b[0m: name 'X_train_2' is not defined"
     ]
    }
   ],
   "source": [
    "X_train_2"
   ]
  },
  {
   "cell_type": "code",
   "execution_count": null,
   "metadata": {
    "collapsed": true
   },
   "outputs": [],
   "source": [
    "model = Sequential()\n",
    "\n",
    "input_units = X_train.shape[1]\n",
    "hidden_units = input_units\n",
    "\n",
    "model.add(Dense(hidden_units, \n",
    "                input_dim=input_units,\n",
    "                activation='relu'))\n",
    "\n",
    "model.add(Dense(1, activation='sigmoid'))"
   ]
  },
  {
   "cell_type": "code",
   "execution_count": null,
   "metadata": {
    "collapsed": true
   },
   "outputs": [],
   "source": [
    "model.compile(loss='binary_crossentropy', \n",
    "              optimizer='adam')"
   ]
  },
  {
   "cell_type": "code",
   "execution_count": null,
   "metadata": {
    "collapsed": true
   },
   "outputs": [],
   "source": [
    "history = model.fit(X_train, y_train, validation_data=(X_test, y_test), epochs=100, batch_size=None, verbose=0)"
   ]
  },
  {
   "cell_type": "code",
   "execution_count": null,
   "metadata": {
    "collapsed": true
   },
   "outputs": [],
   "source": [
    "train_loss = history.history['loss']\n",
    "test_loss = history.history['val_loss']\n",
    "\n",
    "plt.plot(train_loss, label='Train loss')\n",
    "plt.plot(test_loss, label='Trest loss')\n",
    "plt.legend()"
   ]
  },
  {
   "cell_type": "markdown",
   "metadata": {},
   "source": [
    "## Balance Classes by: Changing Threshold"
   ]
  },
  {
   "cell_type": "code",
   "execution_count": 186,
   "metadata": {
    "collapsed": true
   },
   "outputs": [],
   "source": [
    "def threshold_predict(probas, threshold):\n",
    "    return probas[:,1] > threshold"
   ]
  },
  {
   "cell_type": "code",
   "execution_count": 187,
   "metadata": {
    "collapsed": true
   },
   "outputs": [],
   "source": [
    "probas = rt_rand.predict_proba(Xs_test)\n",
    "\n",
    "new_preds = threshold_predict(probas, 0.40)"
   ]
  },
  {
   "cell_type": "code",
   "execution_count": 188,
   "metadata": {},
   "outputs": [
    {
     "name": "stdout",
     "output_type": "stream",
     "text": [
      "             precision    recall  f1-score   support\n",
      "\n",
      "          0       0.98      0.79      0.87      2959\n",
      "          1       0.15      0.65      0.24       165\n",
      "\n",
      "avg / total       0.93      0.78      0.84      3124\n",
      "\n"
     ]
    },
    {
     "data": {
      "text/html": [
       "<div>\n",
       "<style>\n",
       "    .dataframe thead tr:only-child th {\n",
       "        text-align: right;\n",
       "    }\n",
       "\n",
       "    .dataframe thead th {\n",
       "        text-align: left;\n",
       "    }\n",
       "\n",
       "    .dataframe tbody tr th {\n",
       "        vertical-align: top;\n",
       "    }\n",
       "</style>\n",
       "<table border=\"1\" class=\"dataframe\">\n",
       "  <thead>\n",
       "    <tr style=\"text-align: right;\">\n",
       "      <th></th>\n",
       "      <th>Pred -</th>\n",
       "      <th>Pred +</th>\n",
       "    </tr>\n",
       "  </thead>\n",
       "  <tbody>\n",
       "    <tr>\n",
       "      <th>Act -</th>\n",
       "      <td>2332</td>\n",
       "      <td>627</td>\n",
       "    </tr>\n",
       "    <tr>\n",
       "      <th>Act +</th>\n",
       "      <td>57</td>\n",
       "      <td>108</td>\n",
       "    </tr>\n",
       "  </tbody>\n",
       "</table>\n",
       "</div>"
      ],
      "text/plain": [
       "       Pred -  Pred +\n",
       "Act -    2332     627\n",
       "Act +      57     108"
      ]
     },
     "execution_count": 188,
     "metadata": {},
     "output_type": "execute_result"
    }
   ],
   "source": [
    "# Way too many false positives!\n",
    "\n",
    "print(classification_report(y_test, new_preds))\n",
    "pd.DataFrame(confusion_matrix(y_test, new_preds), columns=['Pred -', 'Pred +'], index=['Act -', 'Act +'])"
   ]
  },
  {
   "cell_type": "code",
   "execution_count": 189,
   "metadata": {},
   "outputs": [
    {
     "data": {
      "text/plain": [
       "0.8089649451596055"
      ]
     },
     "execution_count": 189,
     "metadata": {},
     "output_type": "execute_result"
    }
   ],
   "source": [
    "probas = [item[1] for item in probas]\n",
    "roc_auc_score(y_test, probas)"
   ]
  },
  {
   "cell_type": "markdown",
   "metadata": {},
   "source": [
    "# -------------------THE GRAVEYARD OF FAILED IDEAS -----------------------------"
   ]
  },
  {
   "cell_type": "markdown",
   "metadata": {},
   "source": [
    "## Balance Classes by: Oversampling (ros)"
   ]
  },
  {
   "cell_type": "code",
   "execution_count": 121,
   "metadata": {
    "collapsed": true
   },
   "outputs": [],
   "source": [
    "ros = RandomOverSampler(random_state=42)\n",
    "X_over, y_over = ros.fit_sample(X, y)"
   ]
  },
  {
   "cell_type": "code",
   "execution_count": 122,
   "metadata": {},
   "outputs": [
    {
     "name": "stdout",
     "output_type": "stream",
     "text": [
      "(10413, 293)\n",
      "(10413,)\n"
     ]
    }
   ],
   "source": [
    "print(X.shape)\n",
    "print(y.shape)"
   ]
  },
  {
   "cell_type": "code",
   "execution_count": 123,
   "metadata": {},
   "outputs": [
    {
     "name": "stdout",
     "output_type": "stream",
     "text": [
      "(19724, 293)\n",
      "(19724,)\n"
     ]
    }
   ],
   "source": [
    "print(X_over.shape)\n",
    "print(y_over.shape)"
   ]
  },
  {
   "cell_type": "code",
   "execution_count": 124,
   "metadata": {
    "collapsed": true
   },
   "outputs": [],
   "source": [
    "X_train, X_test, y_train, y_test = train_test_split(X_over, y_over, test_size=0.3)"
   ]
  },
  {
   "cell_type": "code",
   "execution_count": 125,
   "metadata": {
    "collapsed": true
   },
   "outputs": [],
   "source": [
    "ss = StandardScaler()\n",
    "Xs_train = ss.fit_transform(X_train)\n",
    "Xs_test = ss.transform(X_test)"
   ]
  },
  {
   "cell_type": "code",
   "execution_count": 126,
   "metadata": {},
   "outputs": [
    {
     "data": {
      "text/plain": [
       "RandomForestClassifier(bootstrap=True, class_weight=None, criterion='gini',\n",
       "            max_depth=None, max_features='auto', max_leaf_nodes=None,\n",
       "            min_impurity_decrease=0.0, min_impurity_split=None,\n",
       "            min_samples_leaf=1, min_samples_split=2,\n",
       "            min_weight_fraction_leaf=0.0, n_estimators=10, n_jobs=1,\n",
       "            oob_score=False, random_state=None, verbose=0,\n",
       "            warm_start=False)"
      ]
     },
     "execution_count": 126,
     "metadata": {},
     "output_type": "execute_result"
    }
   ],
   "source": [
    "rf = RandomForestClassifier()\n",
    "rf.fit(Xs_train, y_train)"
   ]
  },
  {
   "cell_type": "code",
   "execution_count": 127,
   "metadata": {
    "scrolled": true
   },
   "outputs": [
    {
     "name": "stdout",
     "output_type": "stream",
     "text": [
      "             precision    recall  f1-score   support\n",
      "\n",
      "          0       0.95      1.00      0.97      9862\n",
      "          1       0.00      0.00      0.00       551\n",
      "\n",
      "avg / total       0.90      0.95      0.92     10413\n",
      "\n"
     ]
    },
    {
     "name": "stderr",
     "output_type": "stream",
     "text": [
      "/anaconda3/lib/python3.6/site-packages/sklearn/metrics/classification.py:1135: UndefinedMetricWarning: Precision and F-score are ill-defined and being set to 0.0 in labels with no predicted samples.\n",
      "  'precision', 'predicted', average, warn_for)\n"
     ]
    },
    {
     "data": {
      "text/html": [
       "<div>\n",
       "<style>\n",
       "    .dataframe thead tr:only-child th {\n",
       "        text-align: right;\n",
       "    }\n",
       "\n",
       "    .dataframe thead th {\n",
       "        text-align: left;\n",
       "    }\n",
       "\n",
       "    .dataframe tbody tr th {\n",
       "        vertical-align: top;\n",
       "    }\n",
       "</style>\n",
       "<table border=\"1\" class=\"dataframe\">\n",
       "  <thead>\n",
       "    <tr style=\"text-align: right;\">\n",
       "      <th></th>\n",
       "      <th>Pred -</th>\n",
       "      <th>Pred +</th>\n",
       "    </tr>\n",
       "  </thead>\n",
       "  <tbody>\n",
       "    <tr>\n",
       "      <th>Act -</th>\n",
       "      <td>9862</td>\n",
       "      <td>0</td>\n",
       "    </tr>\n",
       "    <tr>\n",
       "      <th>Act +</th>\n",
       "      <td>551</td>\n",
       "      <td>0</td>\n",
       "    </tr>\n",
       "  </tbody>\n",
       "</table>\n",
       "</div>"
      ],
      "text/plain": [
       "       Pred -  Pred +\n",
       "Act -    9862       0\n",
       "Act +     551       0"
      ]
     },
     "execution_count": 127,
     "metadata": {},
     "output_type": "execute_result"
    }
   ],
   "source": [
    "y_preds = rf.predict(X)\n",
    "print(classification_report(y, y_preds))\n",
    "pd.DataFrame(confusion_matrix(y, y_preds), columns=['Pred -', 'Pred +'], index=['Act -', 'Act +'])"
   ]
  },
  {
   "cell_type": "markdown",
   "metadata": {},
   "source": [
    "---\n",
    "\n",
    "# Getting some Water Information (This takes too long too)"
   ]
  },
  {
   "cell_type": "code",
   "execution_count": 29,
   "metadata": {
    "collapsed": true
   },
   "outputs": [],
   "source": [
    "water = pd.read_csv('./Water_Locations.csv')"
   ]
  },
  {
   "cell_type": "code",
   "execution_count": 30,
   "metadata": {
    "collapsed": true
   },
   "outputs": [],
   "source": [
    "# Convert a polygon made of many lat/longs to one average lat/long point\n",
    "\n",
    "def shape_to_point(shape_string):\n",
    "    coord_list = shape_string.split(' ')[3:-1]\n",
    "    lats = coord_list[1::2]\n",
    "    longs = coord_list[0::2]\n",
    "    \n",
    "    clean_lat = []\n",
    "    clean_long = []\n",
    "    \n",
    "    for i in range(len(lats)):\n",
    "        clean_lat.append( float(lats[i].strip('(').strip(',').strip(')')) )\n",
    "        clean_long.append( float(longs[i].strip('(').strip(',').strip(')')) )\n",
    "        \n",
    "    return(np.mean(clean_lat), np.mean(clean_long))"
   ]
  },
  {
   "cell_type": "code",
   "execution_count": 31,
   "metadata": {
    "collapsed": true
   },
   "outputs": [],
   "source": [
    "# Apply function to each body of water\n",
    "\n",
    "latitudes = []\n",
    "longitudes = []\n",
    "\n",
    "for i in range(len(water)):\n",
    "    latitudes.append(shape_to_point(water['the_geom'][i])[0])\n",
    "    longitudes.append(shape_to_point(water['the_geom'][i])[1])\n",
    "    \n",
    "water['lat'] = latitudes\n",
    "water['long'] = longitudes"
   ]
  },
  {
   "cell_type": "code",
   "execution_count": 36,
   "metadata": {
    "scrolled": true
   },
   "outputs": [
    {
     "name": "stdout",
     "output_type": "stream",
     "text": [
      "0 rows parsed\n",
      "100 rows parsed\n",
      "200 rows parsed\n",
      "300 rows parsed\n",
      "400 rows parsed\n",
      "500 rows parsed\n",
      "600 rows parsed\n",
      "700 rows parsed\n",
      "800 rows parsed\n",
      "900 rows parsed\n",
      "1000 rows parsed\n",
      "1100 rows parsed\n",
      "1200 rows parsed\n",
      "1300 rows parsed\n",
      "1400 rows parsed\n",
      "1500 rows parsed\n",
      "1600 rows parsed\n",
      "1700 rows parsed\n",
      "1800 rows parsed\n",
      "1900 rows parsed\n",
      "2000 rows parsed\n",
      "2100 rows parsed\n",
      "2200 rows parsed\n",
      "2300 rows parsed\n",
      "2400 rows parsed\n",
      "2500 rows parsed\n",
      "2600 rows parsed\n",
      "2700 rows parsed\n",
      "2800 rows parsed\n",
      "2900 rows parsed\n",
      "3000 rows parsed\n",
      "3100 rows parsed\n",
      "3200 rows parsed\n",
      "3300 rows parsed\n",
      "3400 rows parsed\n",
      "3500 rows parsed\n",
      "3600 rows parsed\n",
      "3700 rows parsed\n",
      "3800 rows parsed\n",
      "3900 rows parsed\n",
      "4000 rows parsed\n",
      "4100 rows parsed\n",
      "4200 rows parsed\n",
      "4300 rows parsed\n",
      "4400 rows parsed\n",
      "4500 rows parsed\n",
      "4600 rows parsed\n",
      "4700 rows parsed\n",
      "4800 rows parsed\n",
      "4900 rows parsed\n",
      "5000 rows parsed\n",
      "5100 rows parsed\n",
      "5200 rows parsed\n",
      "5300 rows parsed\n",
      "5400 rows parsed\n",
      "5500 rows parsed\n",
      "5600 rows parsed\n",
      "5700 rows parsed\n",
      "5800 rows parsed\n",
      "5900 rows parsed\n",
      "6000 rows parsed\n",
      "6100 rows parsed\n",
      "6200 rows parsed\n",
      "6300 rows parsed\n",
      "6400 rows parsed\n",
      "6500 rows parsed\n",
      "6600 rows parsed\n",
      "6700 rows parsed\n",
      "6800 rows parsed\n",
      "6900 rows parsed\n",
      "7000 rows parsed\n",
      "7100 rows parsed\n",
      "7200 rows parsed\n",
      "7300 rows parsed\n",
      "7400 rows parsed\n",
      "7500 rows parsed\n",
      "7600 rows parsed\n",
      "7700 rows parsed\n",
      "7800 rows parsed\n",
      "7900 rows parsed\n",
      "8000 rows parsed\n",
      "8100 rows parsed\n",
      "8200 rows parsed\n",
      "8300 rows parsed\n",
      "8400 rows parsed\n",
      "8500 rows parsed\n",
      "8600 rows parsed\n",
      "8700 rows parsed\n",
      "8800 rows parsed\n",
      "8900 rows parsed\n",
      "9000 rows parsed\n",
      "9100 rows parsed\n",
      "9200 rows parsed\n",
      "9300 rows parsed\n",
      "9400 rows parsed\n",
      "9500 rows parsed\n",
      "9600 rows parsed\n",
      "9700 rows parsed\n",
      "9800 rows parsed\n",
      "9900 rows parsed\n",
      "10000 rows parsed\n",
      "10100 rows parsed\n",
      "10200 rows parsed\n",
      "10300 rows parsed\n",
      "10400 rows parsed\n",
      "10500 rows parsed\n"
     ]
    }
   ],
   "source": [
    "# For each observation in Training Set, find the distance to closest body of water\n",
    "\n",
    "\n",
    "min_dist = []\n",
    "\n",
    "for i in range(len(X_train)):\n",
    "    distances = []\n",
    "    for j in range(len(water)):\n",
    "        distances.append( vincenty((X_train['Latitude'][i], X_train['Longitude'][i]), (water['lat'][j], water['long'][j])).miles )\n",
    "    if i % 100 == 0:\n",
    "        print(i, 'rows parsed')\n",
    "    min_dist.append(min(distances))"
   ]
  },
  {
   "cell_type": "code",
   "execution_count": 37,
   "metadata": {
    "collapsed": true
   },
   "outputs": [],
   "source": [
    "# Generate Features\n",
    "X_train['min_dist_water_miles'] = min_dist\n",
    "X_train['min_dist_water_feet'] = [i*5280 for i in X_train['min_dist_water_miles'] ]"
   ]
  },
  {
   "cell_type": "code",
   "execution_count": 38,
   "metadata": {
    "scrolled": true
   },
   "outputs": [
    {
     "name": "stdout",
     "output_type": "stream",
     "text": [
      "0 rows parsed\n",
      "100 rows parsed\n",
      "200 rows parsed\n",
      "300 rows parsed\n",
      "400 rows parsed\n",
      "500 rows parsed\n",
      "600 rows parsed\n",
      "700 rows parsed\n",
      "800 rows parsed\n",
      "900 rows parsed\n",
      "1000 rows parsed\n",
      "1100 rows parsed\n",
      "1200 rows parsed\n",
      "1300 rows parsed\n",
      "1400 rows parsed\n",
      "1500 rows parsed\n",
      "1600 rows parsed\n",
      "1700 rows parsed\n",
      "1800 rows parsed\n",
      "1900 rows parsed\n",
      "2000 rows parsed\n",
      "2100 rows parsed\n",
      "2200 rows parsed\n",
      "2300 rows parsed\n",
      "2400 rows parsed\n",
      "2500 rows parsed\n",
      "2600 rows parsed\n",
      "2700 rows parsed\n",
      "2800 rows parsed\n",
      "2900 rows parsed\n",
      "3000 rows parsed\n",
      "3100 rows parsed\n",
      "3200 rows parsed\n",
      "3300 rows parsed\n",
      "3400 rows parsed\n",
      "3500 rows parsed\n",
      "3600 rows parsed\n",
      "3700 rows parsed\n",
      "3800 rows parsed\n",
      "3900 rows parsed\n",
      "4000 rows parsed\n",
      "4100 rows parsed\n",
      "4200 rows parsed\n",
      "4300 rows parsed\n",
      "4400 rows parsed\n",
      "4500 rows parsed\n",
      "4600 rows parsed\n",
      "4700 rows parsed\n",
      "4800 rows parsed\n",
      "4900 rows parsed\n",
      "5000 rows parsed\n",
      "5100 rows parsed\n",
      "5200 rows parsed\n",
      "5300 rows parsed\n",
      "5400 rows parsed\n",
      "5500 rows parsed\n",
      "5600 rows parsed\n",
      "5700 rows parsed\n",
      "5800 rows parsed\n",
      "5900 rows parsed\n",
      "6000 rows parsed\n",
      "6100 rows parsed\n",
      "6200 rows parsed\n",
      "6300 rows parsed\n",
      "6400 rows parsed\n",
      "6500 rows parsed\n",
      "6600 rows parsed\n",
      "6700 rows parsed\n",
      "6800 rows parsed\n",
      "6900 rows parsed\n",
      "7000 rows parsed\n",
      "7100 rows parsed\n",
      "7200 rows parsed\n",
      "7300 rows parsed\n",
      "7400 rows parsed\n",
      "7500 rows parsed\n",
      "7600 rows parsed\n",
      "7700 rows parsed\n",
      "7800 rows parsed\n",
      "7900 rows parsed\n",
      "8000 rows parsed\n",
      "8100 rows parsed\n",
      "8200 rows parsed\n",
      "8300 rows parsed\n",
      "8400 rows parsed\n",
      "8500 rows parsed\n",
      "8600 rows parsed\n",
      "8700 rows parsed\n",
      "8800 rows parsed\n",
      "8900 rows parsed\n",
      "9000 rows parsed\n",
      "9100 rows parsed\n",
      "9200 rows parsed\n",
      "9300 rows parsed\n",
      "9400 rows parsed\n",
      "9500 rows parsed\n",
      "9600 rows parsed\n",
      "9700 rows parsed\n",
      "9800 rows parsed\n",
      "9900 rows parsed\n",
      "10000 rows parsed\n",
      "10100 rows parsed\n",
      "10200 rows parsed\n",
      "10300 rows parsed\n",
      "10400 rows parsed\n",
      "10500 rows parsed\n",
      "10600 rows parsed\n",
      "10700 rows parsed\n",
      "10800 rows parsed\n",
      "10900 rows parsed\n",
      "11000 rows parsed\n",
      "11100 rows parsed\n",
      "11200 rows parsed\n",
      "11300 rows parsed\n",
      "11400 rows parsed\n",
      "11500 rows parsed\n",
      "11600 rows parsed\n",
      "11700 rows parsed\n",
      "11800 rows parsed\n",
      "11900 rows parsed\n",
      "12000 rows parsed\n",
      "12100 rows parsed\n",
      "12200 rows parsed\n",
      "12300 rows parsed\n",
      "12400 rows parsed\n",
      "12500 rows parsed\n",
      "12600 rows parsed\n",
      "12700 rows parsed\n",
      "12800 rows parsed\n",
      "12900 rows parsed\n",
      "13000 rows parsed\n",
      "13100 rows parsed\n",
      "13200 rows parsed\n",
      "13300 rows parsed\n",
      "13400 rows parsed\n",
      "13500 rows parsed\n",
      "13600 rows parsed\n",
      "13700 rows parsed\n",
      "13800 rows parsed\n",
      "13900 rows parsed\n",
      "14000 rows parsed\n",
      "14100 rows parsed\n",
      "14200 rows parsed\n",
      "14300 rows parsed\n",
      "14400 rows parsed\n",
      "14500 rows parsed\n",
      "14600 rows parsed\n",
      "14700 rows parsed\n",
      "14800 rows parsed\n",
      "14900 rows parsed\n",
      "15000 rows parsed\n",
      "15100 rows parsed\n",
      "15200 rows parsed\n",
      "15300 rows parsed\n",
      "15400 rows parsed\n",
      "15500 rows parsed\n",
      "15600 rows parsed\n",
      "15700 rows parsed\n",
      "15800 rows parsed\n",
      "15900 rows parsed\n",
      "16000 rows parsed\n",
      "16100 rows parsed\n",
      "16200 rows parsed\n",
      "16300 rows parsed\n",
      "16400 rows parsed\n",
      "16500 rows parsed\n",
      "16600 rows parsed\n",
      "16700 rows parsed\n",
      "16800 rows parsed\n",
      "16900 rows parsed\n",
      "17000 rows parsed\n",
      "17100 rows parsed\n",
      "17200 rows parsed\n",
      "17300 rows parsed\n",
      "17400 rows parsed\n",
      "17500 rows parsed\n",
      "17600 rows parsed\n",
      "17700 rows parsed\n",
      "17800 rows parsed\n",
      "17900 rows parsed\n",
      "18000 rows parsed\n",
      "18100 rows parsed\n",
      "18200 rows parsed\n",
      "18300 rows parsed\n",
      "18400 rows parsed\n",
      "18500 rows parsed\n",
      "18600 rows parsed\n",
      "18700 rows parsed\n",
      "18800 rows parsed\n",
      "18900 rows parsed\n",
      "19000 rows parsed\n",
      "19100 rows parsed\n",
      "19200 rows parsed\n",
      "19300 rows parsed\n",
      "19400 rows parsed\n",
      "19500 rows parsed\n",
      "19600 rows parsed\n",
      "19700 rows parsed\n",
      "19800 rows parsed\n",
      "19900 rows parsed\n",
      "20000 rows parsed\n",
      "20100 rows parsed\n",
      "20200 rows parsed\n",
      "20300 rows parsed\n",
      "20400 rows parsed\n",
      "20500 rows parsed\n",
      "20600 rows parsed\n",
      "20700 rows parsed\n",
      "20800 rows parsed\n",
      "20900 rows parsed\n",
      "21000 rows parsed\n",
      "21100 rows parsed\n",
      "21200 rows parsed\n",
      "21300 rows parsed\n",
      "21400 rows parsed\n",
      "21500 rows parsed\n",
      "21600 rows parsed\n",
      "21700 rows parsed\n",
      "21800 rows parsed\n",
      "21900 rows parsed\n",
      "22000 rows parsed\n",
      "22100 rows parsed\n",
      "22200 rows parsed\n",
      "22300 rows parsed\n",
      "22400 rows parsed\n",
      "22500 rows parsed\n",
      "22600 rows parsed\n",
      "22700 rows parsed\n",
      "22800 rows parsed\n",
      "22900 rows parsed\n",
      "23000 rows parsed\n",
      "23100 rows parsed\n",
      "23200 rows parsed\n",
      "23300 rows parsed\n",
      "23400 rows parsed\n",
      "23500 rows parsed\n",
      "23600 rows parsed\n",
      "23700 rows parsed\n",
      "23800 rows parsed\n",
      "23900 rows parsed\n",
      "24000 rows parsed\n",
      "24100 rows parsed\n",
      "24200 rows parsed\n",
      "24300 rows parsed\n",
      "24400 rows parsed\n",
      "24500 rows parsed\n",
      "24600 rows parsed\n",
      "24700 rows parsed\n",
      "24800 rows parsed\n",
      "24900 rows parsed\n",
      "25000 rows parsed\n",
      "25100 rows parsed\n",
      "25200 rows parsed\n",
      "25300 rows parsed\n",
      "25400 rows parsed\n",
      "25500 rows parsed\n",
      "25600 rows parsed\n",
      "25700 rows parsed\n",
      "25800 rows parsed\n",
      "25900 rows parsed\n",
      "26000 rows parsed\n",
      "26100 rows parsed\n",
      "26200 rows parsed\n",
      "26300 rows parsed\n",
      "26400 rows parsed\n",
      "26500 rows parsed\n",
      "26600 rows parsed\n",
      "26700 rows parsed\n",
      "26800 rows parsed\n",
      "26900 rows parsed\n",
      "27000 rows parsed\n",
      "27100 rows parsed\n",
      "27200 rows parsed\n",
      "27300 rows parsed\n",
      "27400 rows parsed\n",
      "27500 rows parsed\n",
      "27600 rows parsed\n",
      "27700 rows parsed\n",
      "27800 rows parsed\n",
      "27900 rows parsed\n",
      "28000 rows parsed\n",
      "28100 rows parsed\n",
      "28200 rows parsed\n",
      "28300 rows parsed\n",
      "28400 rows parsed\n",
      "28500 rows parsed\n",
      "28600 rows parsed\n",
      "28700 rows parsed\n",
      "28800 rows parsed\n",
      "28900 rows parsed\n",
      "29000 rows parsed\n",
      "29100 rows parsed\n",
      "29200 rows parsed\n",
      "29300 rows parsed\n",
      "29400 rows parsed\n",
      "29500 rows parsed\n",
      "29600 rows parsed\n",
      "29700 rows parsed\n",
      "29800 rows parsed\n",
      "29900 rows parsed\n",
      "30000 rows parsed\n",
      "30100 rows parsed\n",
      "30200 rows parsed\n",
      "30300 rows parsed\n",
      "30400 rows parsed\n",
      "30500 rows parsed\n",
      "30600 rows parsed\n",
      "30700 rows parsed\n",
      "30800 rows parsed\n",
      "30900 rows parsed\n",
      "31000 rows parsed\n",
      "31100 rows parsed\n",
      "31200 rows parsed\n",
      "31300 rows parsed\n",
      "31400 rows parsed\n",
      "31500 rows parsed\n",
      "31600 rows parsed\n",
      "31700 rows parsed\n",
      "31800 rows parsed\n",
      "31900 rows parsed\n",
      "32000 rows parsed\n",
      "32100 rows parsed\n",
      "32200 rows parsed\n",
      "32300 rows parsed\n",
      "32400 rows parsed\n",
      "32500 rows parsed\n",
      "32600 rows parsed\n",
      "32700 rows parsed\n",
      "32800 rows parsed\n",
      "32900 rows parsed\n",
      "33000 rows parsed\n",
      "33100 rows parsed\n",
      "33200 rows parsed\n",
      "33300 rows parsed\n",
      "33400 rows parsed\n",
      "33500 rows parsed\n",
      "33600 rows parsed\n",
      "33700 rows parsed\n",
      "33800 rows parsed\n",
      "33900 rows parsed\n",
      "34000 rows parsed\n",
      "34100 rows parsed\n",
      "34200 rows parsed\n",
      "34300 rows parsed\n",
      "34400 rows parsed\n",
      "34500 rows parsed\n",
      "34600 rows parsed\n",
      "34700 rows parsed\n",
      "34800 rows parsed\n",
      "34900 rows parsed\n",
      "35000 rows parsed\n",
      "35100 rows parsed\n",
      "35200 rows parsed\n",
      "35300 rows parsed\n",
      "35400 rows parsed\n",
      "35500 rows parsed\n",
      "35600 rows parsed\n",
      "35700 rows parsed\n",
      "35800 rows parsed\n",
      "35900 rows parsed\n",
      "36000 rows parsed\n",
      "36100 rows parsed\n",
      "36200 rows parsed\n",
      "36300 rows parsed\n",
      "36400 rows parsed\n",
      "36500 rows parsed\n",
      "36600 rows parsed\n",
      "36700 rows parsed\n",
      "36800 rows parsed\n",
      "36900 rows parsed\n",
      "37000 rows parsed\n",
      "37100 rows parsed\n",
      "37200 rows parsed\n",
      "37300 rows parsed\n",
      "37400 rows parsed\n",
      "37500 rows parsed\n",
      "37600 rows parsed\n",
      "37700 rows parsed\n",
      "37800 rows parsed\n",
      "37900 rows parsed\n",
      "38000 rows parsed\n",
      "38100 rows parsed\n",
      "38200 rows parsed\n",
      "38300 rows parsed\n",
      "38400 rows parsed\n",
      "38500 rows parsed\n",
      "38600 rows parsed\n",
      "38700 rows parsed\n",
      "38800 rows parsed\n",
      "38900 rows parsed\n",
      "39000 rows parsed\n",
      "39100 rows parsed\n",
      "39200 rows parsed\n",
      "39300 rows parsed\n",
      "39400 rows parsed\n",
      "39500 rows parsed\n",
      "39600 rows parsed\n",
      "39700 rows parsed\n",
      "39800 rows parsed\n",
      "39900 rows parsed\n",
      "40000 rows parsed\n",
      "40100 rows parsed\n",
      "40200 rows parsed\n",
      "40300 rows parsed\n",
      "40400 rows parsed\n",
      "40500 rows parsed\n",
      "40600 rows parsed\n",
      "40700 rows parsed\n",
      "40800 rows parsed\n",
      "40900 rows parsed\n",
      "41000 rows parsed\n",
      "41100 rows parsed\n",
      "41200 rows parsed\n",
      "41300 rows parsed\n",
      "41400 rows parsed\n",
      "41500 rows parsed\n",
      "41600 rows parsed\n",
      "41700 rows parsed\n",
      "41800 rows parsed\n",
      "41900 rows parsed\n",
      "42000 rows parsed\n",
      "42100 rows parsed\n",
      "42200 rows parsed\n",
      "42300 rows parsed\n",
      "42400 rows parsed\n",
      "42500 rows parsed\n",
      "42600 rows parsed\n",
      "42700 rows parsed\n",
      "42800 rows parsed\n",
      "42900 rows parsed\n",
      "43000 rows parsed\n",
      "43100 rows parsed\n",
      "43200 rows parsed\n",
      "43300 rows parsed\n",
      "43400 rows parsed\n",
      "43500 rows parsed\n",
      "43600 rows parsed\n",
      "43700 rows parsed\n",
      "43800 rows parsed\n",
      "43900 rows parsed\n",
      "44000 rows parsed\n",
      "44100 rows parsed\n",
      "44200 rows parsed\n",
      "44300 rows parsed\n",
      "44400 rows parsed\n",
      "44500 rows parsed\n",
      "44600 rows parsed\n",
      "44700 rows parsed\n",
      "44800 rows parsed\n",
      "44900 rows parsed\n",
      "45000 rows parsed\n",
      "45100 rows parsed\n",
      "45200 rows parsed\n",
      "45300 rows parsed\n",
      "45400 rows parsed\n",
      "45500 rows parsed\n",
      "45600 rows parsed\n",
      "45700 rows parsed\n",
      "45800 rows parsed\n",
      "45900 rows parsed\n",
      "46000 rows parsed\n",
      "46100 rows parsed\n"
     ]
    },
    {
     "name": "stdout",
     "output_type": "stream",
     "text": [
      "46200 rows parsed\n",
      "46300 rows parsed\n",
      "46400 rows parsed\n",
      "46500 rows parsed\n",
      "46600 rows parsed\n",
      "46700 rows parsed\n",
      "46800 rows parsed\n",
      "46900 rows parsed\n",
      "47000 rows parsed\n",
      "47100 rows parsed\n",
      "47200 rows parsed\n",
      "47300 rows parsed\n",
      "47400 rows parsed\n",
      "47500 rows parsed\n",
      "47600 rows parsed\n",
      "47700 rows parsed\n",
      "47800 rows parsed\n",
      "47900 rows parsed\n",
      "48000 rows parsed\n",
      "48100 rows parsed\n",
      "48200 rows parsed\n",
      "48300 rows parsed\n",
      "48400 rows parsed\n",
      "48500 rows parsed\n",
      "48600 rows parsed\n",
      "48700 rows parsed\n",
      "48800 rows parsed\n",
      "48900 rows parsed\n",
      "49000 rows parsed\n",
      "49100 rows parsed\n",
      "49200 rows parsed\n",
      "49300 rows parsed\n",
      "49400 rows parsed\n",
      "49500 rows parsed\n",
      "49600 rows parsed\n",
      "49700 rows parsed\n",
      "49800 rows parsed\n",
      "49900 rows parsed\n",
      "50000 rows parsed\n",
      "50100 rows parsed\n",
      "50200 rows parsed\n",
      "50300 rows parsed\n",
      "50400 rows parsed\n",
      "50500 rows parsed\n",
      "50600 rows parsed\n",
      "50700 rows parsed\n",
      "50800 rows parsed\n",
      "50900 rows parsed\n",
      "51000 rows parsed\n",
      "51100 rows parsed\n",
      "51200 rows parsed\n",
      "51300 rows parsed\n",
      "51400 rows parsed\n",
      "51500 rows parsed\n",
      "51600 rows parsed\n",
      "51700 rows parsed\n",
      "51800 rows parsed\n",
      "51900 rows parsed\n",
      "52000 rows parsed\n",
      "52100 rows parsed\n",
      "52200 rows parsed\n",
      "52300 rows parsed\n",
      "52400 rows parsed\n",
      "52500 rows parsed\n",
      "52600 rows parsed\n",
      "52700 rows parsed\n",
      "52800 rows parsed\n",
      "52900 rows parsed\n",
      "53000 rows parsed\n",
      "53100 rows parsed\n",
      "53200 rows parsed\n",
      "53300 rows parsed\n",
      "53400 rows parsed\n",
      "53500 rows parsed\n",
      "53600 rows parsed\n",
      "53700 rows parsed\n",
      "53800 rows parsed\n",
      "53900 rows parsed\n",
      "54000 rows parsed\n",
      "54100 rows parsed\n",
      "54200 rows parsed\n",
      "54300 rows parsed\n",
      "54400 rows parsed\n",
      "54500 rows parsed\n",
      "54600 rows parsed\n",
      "54700 rows parsed\n",
      "54800 rows parsed\n",
      "54900 rows parsed\n",
      "55000 rows parsed\n",
      "55100 rows parsed\n",
      "55200 rows parsed\n",
      "55300 rows parsed\n",
      "55400 rows parsed\n",
      "55500 rows parsed\n",
      "55600 rows parsed\n",
      "55700 rows parsed\n",
      "55800 rows parsed\n",
      "55900 rows parsed\n",
      "56000 rows parsed\n",
      "56100 rows parsed\n",
      "56200 rows parsed\n",
      "56300 rows parsed\n",
      "56400 rows parsed\n",
      "56500 rows parsed\n",
      "56600 rows parsed\n",
      "56700 rows parsed\n",
      "56800 rows parsed\n",
      "56900 rows parsed\n",
      "57000 rows parsed\n",
      "57100 rows parsed\n",
      "57200 rows parsed\n",
      "57300 rows parsed\n",
      "57400 rows parsed\n",
      "57500 rows parsed\n",
      "57600 rows parsed\n",
      "57700 rows parsed\n",
      "57800 rows parsed\n",
      "57900 rows parsed\n",
      "58000 rows parsed\n",
      "58100 rows parsed\n",
      "58200 rows parsed\n",
      "58300 rows parsed\n",
      "58400 rows parsed\n",
      "58500 rows parsed\n",
      "58600 rows parsed\n",
      "58700 rows parsed\n",
      "58800 rows parsed\n",
      "58900 rows parsed\n",
      "59000 rows parsed\n",
      "59100 rows parsed\n",
      "59200 rows parsed\n",
      "59300 rows parsed\n",
      "59400 rows parsed\n",
      "59500 rows parsed\n",
      "59600 rows parsed\n",
      "59700 rows parsed\n",
      "59800 rows parsed\n",
      "59900 rows parsed\n",
      "60000 rows parsed\n",
      "60100 rows parsed\n",
      "60200 rows parsed\n",
      "60300 rows parsed\n",
      "60400 rows parsed\n",
      "60500 rows parsed\n"
     ]
    },
    {
     "ename": "KeyboardInterrupt",
     "evalue": "",
     "output_type": "error",
     "traceback": [
      "\u001b[0;31m---------------------------------------------------------------------------\u001b[0m",
      "\u001b[0;31mKeyboardInterrupt\u001b[0m                         Traceback (most recent call last)",
      "\u001b[0;32m<ipython-input-38-e26cae7aa63a>\u001b[0m in \u001b[0;36m<module>\u001b[0;34m()\u001b[0m\n\u001b[1;32m      6\u001b[0m     \u001b[0mdistances\u001b[0m \u001b[0;34m=\u001b[0m \u001b[0;34m[\u001b[0m\u001b[0;34m]\u001b[0m\u001b[0;34m\u001b[0m\u001b[0m\n\u001b[1;32m      7\u001b[0m     \u001b[0;32mfor\u001b[0m \u001b[0mj\u001b[0m \u001b[0;32min\u001b[0m \u001b[0mrange\u001b[0m\u001b[0;34m(\u001b[0m\u001b[0mlen\u001b[0m\u001b[0;34m(\u001b[0m\u001b[0mwater\u001b[0m\u001b[0;34m)\u001b[0m\u001b[0;34m)\u001b[0m\u001b[0;34m:\u001b[0m\u001b[0;34m\u001b[0m\u001b[0m\n\u001b[0;32m----> 8\u001b[0;31m         \u001b[0mdistances\u001b[0m\u001b[0;34m.\u001b[0m\u001b[0mappend\u001b[0m\u001b[0;34m(\u001b[0m \u001b[0mvincenty\u001b[0m\u001b[0;34m(\u001b[0m\u001b[0;34m(\u001b[0m\u001b[0mX_test\u001b[0m\u001b[0;34m[\u001b[0m\u001b[0;34m'Latitude'\u001b[0m\u001b[0;34m]\u001b[0m\u001b[0;34m[\u001b[0m\u001b[0mi\u001b[0m\u001b[0;34m]\u001b[0m\u001b[0;34m,\u001b[0m \u001b[0mX_test\u001b[0m\u001b[0;34m[\u001b[0m\u001b[0;34m'Longitude'\u001b[0m\u001b[0;34m]\u001b[0m\u001b[0;34m[\u001b[0m\u001b[0mi\u001b[0m\u001b[0;34m]\u001b[0m\u001b[0;34m)\u001b[0m\u001b[0;34m,\u001b[0m \u001b[0;34m(\u001b[0m\u001b[0mwater\u001b[0m\u001b[0;34m[\u001b[0m\u001b[0;34m'lat'\u001b[0m\u001b[0;34m]\u001b[0m\u001b[0;34m[\u001b[0m\u001b[0mj\u001b[0m\u001b[0;34m]\u001b[0m\u001b[0;34m,\u001b[0m \u001b[0mwater\u001b[0m\u001b[0;34m[\u001b[0m\u001b[0;34m'long'\u001b[0m\u001b[0;34m]\u001b[0m\u001b[0;34m[\u001b[0m\u001b[0mj\u001b[0m\u001b[0;34m]\u001b[0m\u001b[0;34m)\u001b[0m\u001b[0;34m)\u001b[0m\u001b[0;34m.\u001b[0m\u001b[0mmiles\u001b[0m \u001b[0;34m)\u001b[0m\u001b[0;34m\u001b[0m\u001b[0m\n\u001b[0m\u001b[1;32m      9\u001b[0m     \u001b[0;32mif\u001b[0m \u001b[0mi\u001b[0m \u001b[0;34m%\u001b[0m \u001b[0;36m100\u001b[0m \u001b[0;34m==\u001b[0m \u001b[0;36m0\u001b[0m\u001b[0;34m:\u001b[0m\u001b[0;34m\u001b[0m\u001b[0m\n\u001b[1;32m     10\u001b[0m         \u001b[0mprint\u001b[0m\u001b[0;34m(\u001b[0m\u001b[0mi\u001b[0m\u001b[0;34m,\u001b[0m \u001b[0;34m'rows parsed'\u001b[0m\u001b[0;34m)\u001b[0m\u001b[0;34m\u001b[0m\u001b[0m\n",
      "\u001b[0;31mKeyboardInterrupt\u001b[0m: "
     ]
    }
   ],
   "source": [
    "# For each observation in Testing Set, find the distance to closest body of water\n",
    "\n",
    "min_dist = []\n",
    "\n",
    "for i in range(len(X_test)):\n",
    "    distances = []\n",
    "    for j in range(len(water)):\n",
    "        distances.append( vincenty((X_test['Latitude'][i], X_test['Longitude'][i]), (water['lat'][j], water['long'][j])).miles )\n",
    "    if i % 100 == 0:\n",
    "        print(i, 'rows parsed')\n",
    "    min_dist.append(min(distances))"
   ]
  },
  {
   "cell_type": "code",
   "execution_count": null,
   "metadata": {
    "collapsed": true
   },
   "outputs": [],
   "source": [
    "# Generate Features\n",
    "X_test['min_dist_water_miles'] = min_dist\n",
    "X_test['min_dist_water_feet'] = [i*5280 for i in X_test['min_dist_water_miles'] ]"
   ]
  },
  {
   "cell_type": "markdown",
   "metadata": {
    "collapsed": true
   },
   "source": [
    "---\n",
    "# Getting some Park Information (This Section on Hold, takes a lot of time)"
   ]
  },
  {
   "cell_type": "code",
   "execution_count": 21,
   "metadata": {
    "collapsed": true
   },
   "outputs": [],
   "source": [
    "parks = pd.read_csv('./Park_Locations.csv')"
   ]
  },
  {
   "cell_type": "code",
   "execution_count": 22,
   "metadata": {
    "collapsed": true
   },
   "outputs": [],
   "source": [
    "park_feats = ['PARK NUMBER', 'PARK NAME', 'STREET ADDRESS', 'ZIP', 'ACRES', 'WARD', 'PARK CLASS', 'LABEL', 'LOCATION']"
   ]
  },
  {
   "cell_type": "code",
   "execution_count": 23,
   "metadata": {
    "collapsed": true
   },
   "outputs": [],
   "source": [
    "parks = parks[park_feats]"
   ]
  },
  {
   "cell_type": "code",
   "execution_count": 24,
   "metadata": {},
   "outputs": [
    {
     "data": {
      "text/html": [
       "<div>\n",
       "<style>\n",
       "    .dataframe thead tr:only-child th {\n",
       "        text-align: right;\n",
       "    }\n",
       "\n",
       "    .dataframe thead th {\n",
       "        text-align: left;\n",
       "    }\n",
       "\n",
       "    .dataframe tbody tr th {\n",
       "        vertical-align: top;\n",
       "    }\n",
       "</style>\n",
       "<table border=\"1\" class=\"dataframe\">\n",
       "  <thead>\n",
       "    <tr style=\"text-align: right;\">\n",
       "      <th></th>\n",
       "      <th>PARK NUMBER</th>\n",
       "      <th>PARK NAME</th>\n",
       "      <th>STREET ADDRESS</th>\n",
       "      <th>ZIP</th>\n",
       "      <th>ACRES</th>\n",
       "      <th>WARD</th>\n",
       "      <th>PARK CLASS</th>\n",
       "      <th>LABEL</th>\n",
       "      <th>LOCATION</th>\n",
       "    </tr>\n",
       "  </thead>\n",
       "  <tbody>\n",
       "    <tr>\n",
       "      <th>0</th>\n",
       "      <td>288</td>\n",
       "      <td>GOLDEN GATE</td>\n",
       "      <td>500 E 130TH ST</td>\n",
       "      <td>60627.0</td>\n",
       "      <td>5.20</td>\n",
       "      <td>9</td>\n",
       "      <td>COMMUNITY PARK</td>\n",
       "      <td>Golden Gate</td>\n",
       "      <td>500 E 130TH ST\\n60627\\n</td>\n",
       "    </tr>\n",
       "    <tr>\n",
       "      <th>1</th>\n",
       "      <td>548</td>\n",
       "      <td>MAJOR TAYLOR BIKE TRAIL</td>\n",
       "      <td>NaN</td>\n",
       "      <td>NaN</td>\n",
       "      <td>31.24</td>\n",
       "      <td>0</td>\n",
       "      <td>COMMUNITY PARK</td>\n",
       "      <td>Major Taylor Bike Trail</td>\n",
       "      <td>NaN</td>\n",
       "    </tr>\n",
       "    <tr>\n",
       "      <th>2</th>\n",
       "      <td>255</td>\n",
       "      <td>CARVER (GEORGE WASHINGTON)</td>\n",
       "      <td>939 E 132ND ST</td>\n",
       "      <td>60627.0</td>\n",
       "      <td>19.42</td>\n",
       "      <td>9</td>\n",
       "      <td>REGIONAL PARK</td>\n",
       "      <td>Carver</td>\n",
       "      <td>939 E 132ND ST\\n60627\\n</td>\n",
       "    </tr>\n",
       "    <tr>\n",
       "      <th>3</th>\n",
       "      <td>127</td>\n",
       "      <td>RUTHERFORD SAYRE</td>\n",
       "      <td>6871 W BELDEN AVE</td>\n",
       "      <td>60635.0</td>\n",
       "      <td>12.33</td>\n",
       "      <td>36</td>\n",
       "      <td>COMMUNITY PARK</td>\n",
       "      <td>Rutherford Sayre</td>\n",
       "      <td>6871 W BELDEN AVE\\n60635\\n</td>\n",
       "    </tr>\n",
       "    <tr>\n",
       "      <th>4</th>\n",
       "      <td>1256</td>\n",
       "      <td>HOWARD (URE) BEACH</td>\n",
       "      <td>1300 W HOWARD ST</td>\n",
       "      <td>60626.0</td>\n",
       "      <td>0.89</td>\n",
       "      <td>49</td>\n",
       "      <td>NEIGHBORHOOD PARK</td>\n",
       "      <td>Howard Beach</td>\n",
       "      <td>1300 W HOWARD ST\\n60626\\n(42.01933233897205, -...</td>\n",
       "    </tr>\n",
       "  </tbody>\n",
       "</table>\n",
       "</div>"
      ],
      "text/plain": [
       "   PARK NUMBER                   PARK NAME     STREET ADDRESS      ZIP  ACRES  \\\n",
       "0          288                 GOLDEN GATE     500 E 130TH ST  60627.0   5.20   \n",
       "1          548     MAJOR TAYLOR BIKE TRAIL                NaN      NaN  31.24   \n",
       "2          255  CARVER (GEORGE WASHINGTON)     939 E 132ND ST  60627.0  19.42   \n",
       "3          127            RUTHERFORD SAYRE  6871 W BELDEN AVE  60635.0  12.33   \n",
       "4         1256          HOWARD (URE) BEACH   1300 W HOWARD ST  60626.0   0.89   \n",
       "\n",
       "   WARD         PARK CLASS                    LABEL  \\\n",
       "0     9     COMMUNITY PARK              Golden Gate   \n",
       "1     0     COMMUNITY PARK  Major Taylor Bike Trail   \n",
       "2     9      REGIONAL PARK                   Carver   \n",
       "3    36     COMMUNITY PARK         Rutherford Sayre   \n",
       "4    49  NEIGHBORHOOD PARK             Howard Beach   \n",
       "\n",
       "                                            LOCATION  \n",
       "0                            500 E 130TH ST\\n60627\\n  \n",
       "1                                                NaN  \n",
       "2                            939 E 132ND ST\\n60627\\n  \n",
       "3                         6871 W BELDEN AVE\\n60635\\n  \n",
       "4  1300 W HOWARD ST\\n60626\\n(42.01933233897205, -...  "
      ]
     },
     "execution_count": 24,
     "metadata": {},
     "output_type": "execute_result"
    }
   ],
   "source": [
    "parks.head()"
   ]
  },
  {
   "cell_type": "code",
   "execution_count": 25,
   "metadata": {},
   "outputs": [
    {
     "name": "stdout",
     "output_type": "stream",
     "text": [
      "(41.6590468805167, -87.6093631364668)\n"
     ]
    }
   ],
   "source": [
    "geolocator = Nominatim()\n",
    "location = geolocator.geocode(\"500 E 130TH ST CHICAGO\")\n",
    "print((location.latitude, location.longitude))"
   ]
  },
  {
   "cell_type": "code",
   "execution_count": 90,
   "metadata": {
    "scrolled": true
   },
   "outputs": [
    {
     "ename": "GeocoderTimedOut",
     "evalue": "Service timed out",
     "output_type": "error",
     "traceback": [
      "\u001b[0;31m---------------------------------------------------------------------------\u001b[0m",
      "\u001b[0;31mtimeout\u001b[0m                                   Traceback (most recent call last)",
      "\u001b[0;32m/anaconda3/lib/python3.6/urllib/request.py\u001b[0m in \u001b[0;36mdo_open\u001b[0;34m(self, http_class, req, **http_conn_args)\u001b[0m\n\u001b[1;32m   1317\u001b[0m                 h.request(req.get_method(), req.selector, req.data, headers,\n\u001b[0;32m-> 1318\u001b[0;31m                           encode_chunked=req.has_header('Transfer-encoding'))\n\u001b[0m\u001b[1;32m   1319\u001b[0m             \u001b[0;32mexcept\u001b[0m \u001b[0mOSError\u001b[0m \u001b[0;32mas\u001b[0m \u001b[0merr\u001b[0m\u001b[0;34m:\u001b[0m \u001b[0;31m# timeout error\u001b[0m\u001b[0;34m\u001b[0m\u001b[0m\n",
      "\u001b[0;32m/anaconda3/lib/python3.6/http/client.py\u001b[0m in \u001b[0;36mrequest\u001b[0;34m(self, method, url, body, headers, encode_chunked)\u001b[0m\n\u001b[1;32m   1238\u001b[0m         \u001b[0;34m\"\"\"Send a complete request to the server.\"\"\"\u001b[0m\u001b[0;34m\u001b[0m\u001b[0m\n\u001b[0;32m-> 1239\u001b[0;31m         \u001b[0mself\u001b[0m\u001b[0;34m.\u001b[0m\u001b[0m_send_request\u001b[0m\u001b[0;34m(\u001b[0m\u001b[0mmethod\u001b[0m\u001b[0;34m,\u001b[0m \u001b[0murl\u001b[0m\u001b[0;34m,\u001b[0m \u001b[0mbody\u001b[0m\u001b[0;34m,\u001b[0m \u001b[0mheaders\u001b[0m\u001b[0;34m,\u001b[0m \u001b[0mencode_chunked\u001b[0m\u001b[0;34m)\u001b[0m\u001b[0;34m\u001b[0m\u001b[0m\n\u001b[0m\u001b[1;32m   1240\u001b[0m \u001b[0;34m\u001b[0m\u001b[0m\n",
      "\u001b[0;32m/anaconda3/lib/python3.6/http/client.py\u001b[0m in \u001b[0;36m_send_request\u001b[0;34m(self, method, url, body, headers, encode_chunked)\u001b[0m\n\u001b[1;32m   1284\u001b[0m             \u001b[0mbody\u001b[0m \u001b[0;34m=\u001b[0m \u001b[0m_encode\u001b[0m\u001b[0;34m(\u001b[0m\u001b[0mbody\u001b[0m\u001b[0;34m,\u001b[0m \u001b[0;34m'body'\u001b[0m\u001b[0;34m)\u001b[0m\u001b[0;34m\u001b[0m\u001b[0m\n\u001b[0;32m-> 1285\u001b[0;31m         \u001b[0mself\u001b[0m\u001b[0;34m.\u001b[0m\u001b[0mendheaders\u001b[0m\u001b[0;34m(\u001b[0m\u001b[0mbody\u001b[0m\u001b[0;34m,\u001b[0m \u001b[0mencode_chunked\u001b[0m\u001b[0;34m=\u001b[0m\u001b[0mencode_chunked\u001b[0m\u001b[0;34m)\u001b[0m\u001b[0;34m\u001b[0m\u001b[0m\n\u001b[0m\u001b[1;32m   1286\u001b[0m \u001b[0;34m\u001b[0m\u001b[0m\n",
      "\u001b[0;32m/anaconda3/lib/python3.6/http/client.py\u001b[0m in \u001b[0;36mendheaders\u001b[0;34m(self, message_body, encode_chunked)\u001b[0m\n\u001b[1;32m   1233\u001b[0m             \u001b[0;32mraise\u001b[0m \u001b[0mCannotSendHeader\u001b[0m\u001b[0;34m(\u001b[0m\u001b[0;34m)\u001b[0m\u001b[0;34m\u001b[0m\u001b[0m\n\u001b[0;32m-> 1234\u001b[0;31m         \u001b[0mself\u001b[0m\u001b[0;34m.\u001b[0m\u001b[0m_send_output\u001b[0m\u001b[0;34m(\u001b[0m\u001b[0mmessage_body\u001b[0m\u001b[0;34m,\u001b[0m \u001b[0mencode_chunked\u001b[0m\u001b[0;34m=\u001b[0m\u001b[0mencode_chunked\u001b[0m\u001b[0;34m)\u001b[0m\u001b[0;34m\u001b[0m\u001b[0m\n\u001b[0m\u001b[1;32m   1235\u001b[0m \u001b[0;34m\u001b[0m\u001b[0m\n",
      "\u001b[0;32m/anaconda3/lib/python3.6/http/client.py\u001b[0m in \u001b[0;36m_send_output\u001b[0;34m(self, message_body, encode_chunked)\u001b[0m\n\u001b[1;32m   1025\u001b[0m         \u001b[0;32mdel\u001b[0m \u001b[0mself\u001b[0m\u001b[0;34m.\u001b[0m\u001b[0m_buffer\u001b[0m\u001b[0;34m[\u001b[0m\u001b[0;34m:\u001b[0m\u001b[0;34m]\u001b[0m\u001b[0;34m\u001b[0m\u001b[0m\n\u001b[0;32m-> 1026\u001b[0;31m         \u001b[0mself\u001b[0m\u001b[0;34m.\u001b[0m\u001b[0msend\u001b[0m\u001b[0;34m(\u001b[0m\u001b[0mmsg\u001b[0m\u001b[0;34m)\u001b[0m\u001b[0;34m\u001b[0m\u001b[0m\n\u001b[0m\u001b[1;32m   1027\u001b[0m \u001b[0;34m\u001b[0m\u001b[0m\n",
      "\u001b[0;32m/anaconda3/lib/python3.6/http/client.py\u001b[0m in \u001b[0;36msend\u001b[0;34m(self, data)\u001b[0m\n\u001b[1;32m    963\u001b[0m             \u001b[0;32mif\u001b[0m \u001b[0mself\u001b[0m\u001b[0;34m.\u001b[0m\u001b[0mauto_open\u001b[0m\u001b[0;34m:\u001b[0m\u001b[0;34m\u001b[0m\u001b[0m\n\u001b[0;32m--> 964\u001b[0;31m                 \u001b[0mself\u001b[0m\u001b[0;34m.\u001b[0m\u001b[0mconnect\u001b[0m\u001b[0;34m(\u001b[0m\u001b[0;34m)\u001b[0m\u001b[0;34m\u001b[0m\u001b[0m\n\u001b[0m\u001b[1;32m    965\u001b[0m             \u001b[0;32melse\u001b[0m\u001b[0;34m:\u001b[0m\u001b[0;34m\u001b[0m\u001b[0m\n",
      "\u001b[0;32m/anaconda3/lib/python3.6/http/client.py\u001b[0m in \u001b[0;36mconnect\u001b[0;34m(self)\u001b[0m\n\u001b[1;32m   1399\u001b[0m             self.sock = self._context.wrap_socket(self.sock,\n\u001b[0;32m-> 1400\u001b[0;31m                                                   server_hostname=server_hostname)\n\u001b[0m\u001b[1;32m   1401\u001b[0m             \u001b[0;32mif\u001b[0m \u001b[0;32mnot\u001b[0m \u001b[0mself\u001b[0m\u001b[0;34m.\u001b[0m\u001b[0m_context\u001b[0m\u001b[0;34m.\u001b[0m\u001b[0mcheck_hostname\u001b[0m \u001b[0;32mand\u001b[0m \u001b[0mself\u001b[0m\u001b[0;34m.\u001b[0m\u001b[0m_check_hostname\u001b[0m\u001b[0;34m:\u001b[0m\u001b[0;34m\u001b[0m\u001b[0m\n",
      "\u001b[0;32m/anaconda3/lib/python3.6/ssl.py\u001b[0m in \u001b[0;36mwrap_socket\u001b[0;34m(self, sock, server_side, do_handshake_on_connect, suppress_ragged_eofs, server_hostname, session)\u001b[0m\n\u001b[1;32m    406\u001b[0m                          \u001b[0mserver_hostname\u001b[0m\u001b[0;34m=\u001b[0m\u001b[0mserver_hostname\u001b[0m\u001b[0;34m,\u001b[0m\u001b[0;34m\u001b[0m\u001b[0m\n\u001b[0;32m--> 407\u001b[0;31m                          _context=self, _session=session)\n\u001b[0m\u001b[1;32m    408\u001b[0m \u001b[0;34m\u001b[0m\u001b[0m\n",
      "\u001b[0;32m/anaconda3/lib/python3.6/ssl.py\u001b[0m in \u001b[0;36m__init__\u001b[0;34m(self, sock, keyfile, certfile, server_side, cert_reqs, ssl_version, ca_certs, do_handshake_on_connect, family, type, proto, fileno, suppress_ragged_eofs, npn_protocols, ciphers, server_hostname, _context, _session)\u001b[0m\n\u001b[1;32m    813\u001b[0m                         \u001b[0;32mraise\u001b[0m \u001b[0mValueError\u001b[0m\u001b[0;34m(\u001b[0m\u001b[0;34m\"do_handshake_on_connect should not be specified for non-blocking sockets\"\u001b[0m\u001b[0;34m)\u001b[0m\u001b[0;34m\u001b[0m\u001b[0m\n\u001b[0;32m--> 814\u001b[0;31m                     \u001b[0mself\u001b[0m\u001b[0;34m.\u001b[0m\u001b[0mdo_handshake\u001b[0m\u001b[0;34m(\u001b[0m\u001b[0;34m)\u001b[0m\u001b[0;34m\u001b[0m\u001b[0m\n\u001b[0m\u001b[1;32m    815\u001b[0m \u001b[0;34m\u001b[0m\u001b[0m\n",
      "\u001b[0;32m/anaconda3/lib/python3.6/ssl.py\u001b[0m in \u001b[0;36mdo_handshake\u001b[0;34m(self, block)\u001b[0m\n\u001b[1;32m   1067\u001b[0m                 \u001b[0mself\u001b[0m\u001b[0;34m.\u001b[0m\u001b[0msettimeout\u001b[0m\u001b[0;34m(\u001b[0m\u001b[0;32mNone\u001b[0m\u001b[0;34m)\u001b[0m\u001b[0;34m\u001b[0m\u001b[0m\n\u001b[0;32m-> 1068\u001b[0;31m             \u001b[0mself\u001b[0m\u001b[0;34m.\u001b[0m\u001b[0m_sslobj\u001b[0m\u001b[0;34m.\u001b[0m\u001b[0mdo_handshake\u001b[0m\u001b[0;34m(\u001b[0m\u001b[0;34m)\u001b[0m\u001b[0;34m\u001b[0m\u001b[0m\n\u001b[0m\u001b[1;32m   1069\u001b[0m         \u001b[0;32mfinally\u001b[0m\u001b[0;34m:\u001b[0m\u001b[0;34m\u001b[0m\u001b[0m\n",
      "\u001b[0;32m/anaconda3/lib/python3.6/ssl.py\u001b[0m in \u001b[0;36mdo_handshake\u001b[0;34m(self)\u001b[0m\n\u001b[1;32m    688\u001b[0m         \u001b[0;34m\"\"\"Start the SSL/TLS handshake.\"\"\"\u001b[0m\u001b[0;34m\u001b[0m\u001b[0m\n\u001b[0;32m--> 689\u001b[0;31m         \u001b[0mself\u001b[0m\u001b[0;34m.\u001b[0m\u001b[0m_sslobj\u001b[0m\u001b[0;34m.\u001b[0m\u001b[0mdo_handshake\u001b[0m\u001b[0;34m(\u001b[0m\u001b[0;34m)\u001b[0m\u001b[0;34m\u001b[0m\u001b[0m\n\u001b[0m\u001b[1;32m    690\u001b[0m         \u001b[0;32mif\u001b[0m \u001b[0mself\u001b[0m\u001b[0;34m.\u001b[0m\u001b[0mcontext\u001b[0m\u001b[0;34m.\u001b[0m\u001b[0mcheck_hostname\u001b[0m\u001b[0;34m:\u001b[0m\u001b[0;34m\u001b[0m\u001b[0m\n",
      "\u001b[0;31mtimeout\u001b[0m: _ssl.c:761: The handshake operation timed out",
      "\nDuring handling of the above exception, another exception occurred:\n",
      "\u001b[0;31mURLError\u001b[0m                                  Traceback (most recent call last)",
      "\u001b[0;32m/anaconda3/lib/python3.6/site-packages/geopy/geocoders/base.py\u001b[0m in \u001b[0;36m_call_geocoder\u001b[0;34m(self, url, timeout, raw, requester, deserializer, **kwargs)\u001b[0m\n\u001b[1;32m    142\u001b[0m         \u001b[0;32mtry\u001b[0m\u001b[0;34m:\u001b[0m\u001b[0;34m\u001b[0m\u001b[0m\n\u001b[0;32m--> 143\u001b[0;31m             \u001b[0mpage\u001b[0m \u001b[0;34m=\u001b[0m \u001b[0mrequester\u001b[0m\u001b[0;34m(\u001b[0m\u001b[0mreq\u001b[0m\u001b[0;34m,\u001b[0m \u001b[0mtimeout\u001b[0m\u001b[0;34m=\u001b[0m\u001b[0;34m(\u001b[0m\u001b[0mtimeout\u001b[0m \u001b[0;32mor\u001b[0m \u001b[0mself\u001b[0m\u001b[0;34m.\u001b[0m\u001b[0mtimeout\u001b[0m\u001b[0;34m)\u001b[0m\u001b[0;34m,\u001b[0m \u001b[0;34m**\u001b[0m\u001b[0mkwargs\u001b[0m\u001b[0;34m)\u001b[0m\u001b[0;34m\u001b[0m\u001b[0m\n\u001b[0m\u001b[1;32m    144\u001b[0m         \u001b[0;32mexcept\u001b[0m \u001b[0mException\u001b[0m \u001b[0;32mas\u001b[0m \u001b[0merror\u001b[0m\u001b[0;34m:\u001b[0m \u001b[0;31m# pylint: disable=W0703\u001b[0m\u001b[0;34m\u001b[0m\u001b[0m\n",
      "\u001b[0;32m/anaconda3/lib/python3.6/urllib/request.py\u001b[0m in \u001b[0;36murlopen\u001b[0;34m(url, data, timeout, cafile, capath, cadefault, context)\u001b[0m\n\u001b[1;32m    222\u001b[0m         \u001b[0mopener\u001b[0m \u001b[0;34m=\u001b[0m \u001b[0m_opener\u001b[0m\u001b[0;34m\u001b[0m\u001b[0m\n\u001b[0;32m--> 223\u001b[0;31m     \u001b[0;32mreturn\u001b[0m \u001b[0mopener\u001b[0m\u001b[0;34m.\u001b[0m\u001b[0mopen\u001b[0m\u001b[0;34m(\u001b[0m\u001b[0murl\u001b[0m\u001b[0;34m,\u001b[0m \u001b[0mdata\u001b[0m\u001b[0;34m,\u001b[0m \u001b[0mtimeout\u001b[0m\u001b[0;34m)\u001b[0m\u001b[0;34m\u001b[0m\u001b[0m\n\u001b[0m\u001b[1;32m    224\u001b[0m \u001b[0;34m\u001b[0m\u001b[0m\n",
      "\u001b[0;32m/anaconda3/lib/python3.6/urllib/request.py\u001b[0m in \u001b[0;36mopen\u001b[0;34m(self, fullurl, data, timeout)\u001b[0m\n\u001b[1;32m    525\u001b[0m \u001b[0;34m\u001b[0m\u001b[0m\n\u001b[0;32m--> 526\u001b[0;31m         \u001b[0mresponse\u001b[0m \u001b[0;34m=\u001b[0m \u001b[0mself\u001b[0m\u001b[0;34m.\u001b[0m\u001b[0m_open\u001b[0m\u001b[0;34m(\u001b[0m\u001b[0mreq\u001b[0m\u001b[0;34m,\u001b[0m \u001b[0mdata\u001b[0m\u001b[0;34m)\u001b[0m\u001b[0;34m\u001b[0m\u001b[0m\n\u001b[0m\u001b[1;32m    527\u001b[0m \u001b[0;34m\u001b[0m\u001b[0m\n",
      "\u001b[0;32m/anaconda3/lib/python3.6/urllib/request.py\u001b[0m in \u001b[0;36m_open\u001b[0;34m(self, req, data)\u001b[0m\n\u001b[1;32m    543\u001b[0m         result = self._call_chain(self.handle_open, protocol, protocol +\n\u001b[0;32m--> 544\u001b[0;31m                                   '_open', req)\n\u001b[0m\u001b[1;32m    545\u001b[0m         \u001b[0;32mif\u001b[0m \u001b[0mresult\u001b[0m\u001b[0;34m:\u001b[0m\u001b[0;34m\u001b[0m\u001b[0m\n",
      "\u001b[0;32m/anaconda3/lib/python3.6/urllib/request.py\u001b[0m in \u001b[0;36m_call_chain\u001b[0;34m(self, chain, kind, meth_name, *args)\u001b[0m\n\u001b[1;32m    503\u001b[0m             \u001b[0mfunc\u001b[0m \u001b[0;34m=\u001b[0m \u001b[0mgetattr\u001b[0m\u001b[0;34m(\u001b[0m\u001b[0mhandler\u001b[0m\u001b[0;34m,\u001b[0m \u001b[0mmeth_name\u001b[0m\u001b[0;34m)\u001b[0m\u001b[0;34m\u001b[0m\u001b[0m\n\u001b[0;32m--> 504\u001b[0;31m             \u001b[0mresult\u001b[0m \u001b[0;34m=\u001b[0m \u001b[0mfunc\u001b[0m\u001b[0;34m(\u001b[0m\u001b[0;34m*\u001b[0m\u001b[0margs\u001b[0m\u001b[0;34m)\u001b[0m\u001b[0;34m\u001b[0m\u001b[0m\n\u001b[0m\u001b[1;32m    505\u001b[0m             \u001b[0;32mif\u001b[0m \u001b[0mresult\u001b[0m \u001b[0;32mis\u001b[0m \u001b[0;32mnot\u001b[0m \u001b[0;32mNone\u001b[0m\u001b[0;34m:\u001b[0m\u001b[0;34m\u001b[0m\u001b[0m\n",
      "\u001b[0;32m/anaconda3/lib/python3.6/urllib/request.py\u001b[0m in \u001b[0;36mhttps_open\u001b[0;34m(self, req)\u001b[0m\n\u001b[1;32m   1360\u001b[0m             return self.do_open(http.client.HTTPSConnection, req,\n\u001b[0;32m-> 1361\u001b[0;31m                 context=self._context, check_hostname=self._check_hostname)\n\u001b[0m\u001b[1;32m   1362\u001b[0m \u001b[0;34m\u001b[0m\u001b[0m\n",
      "\u001b[0;32m/anaconda3/lib/python3.6/urllib/request.py\u001b[0m in \u001b[0;36mdo_open\u001b[0;34m(self, http_class, req, **http_conn_args)\u001b[0m\n\u001b[1;32m   1319\u001b[0m             \u001b[0;32mexcept\u001b[0m \u001b[0mOSError\u001b[0m \u001b[0;32mas\u001b[0m \u001b[0merr\u001b[0m\u001b[0;34m:\u001b[0m \u001b[0;31m# timeout error\u001b[0m\u001b[0;34m\u001b[0m\u001b[0m\n\u001b[0;32m-> 1320\u001b[0;31m                 \u001b[0;32mraise\u001b[0m \u001b[0mURLError\u001b[0m\u001b[0;34m(\u001b[0m\u001b[0merr\u001b[0m\u001b[0;34m)\u001b[0m\u001b[0;34m\u001b[0m\u001b[0m\n\u001b[0m\u001b[1;32m   1321\u001b[0m             \u001b[0mr\u001b[0m \u001b[0;34m=\u001b[0m \u001b[0mh\u001b[0m\u001b[0;34m.\u001b[0m\u001b[0mgetresponse\u001b[0m\u001b[0;34m(\u001b[0m\u001b[0;34m)\u001b[0m\u001b[0;34m\u001b[0m\u001b[0m\n",
      "\u001b[0;31mURLError\u001b[0m: <urlopen error _ssl.c:761: The handshake operation timed out>",
      "\nDuring handling of the above exception, another exception occurred:\n",
      "\u001b[0;31mGeocoderTimedOut\u001b[0m                          Traceback (most recent call last)",
      "\u001b[0;32m<ipython-input-90-e35a34f7d453>\u001b[0m in \u001b[0;36m<module>\u001b[0;34m()\u001b[0m\n\u001b[1;32m      4\u001b[0m \u001b[0;34m\u001b[0m\u001b[0m\n\u001b[1;32m      5\u001b[0m \u001b[0;32mfor\u001b[0m \u001b[0mi\u001b[0m \u001b[0;32min\u001b[0m \u001b[0mrange\u001b[0m\u001b[0;34m(\u001b[0m\u001b[0mlen\u001b[0m\u001b[0;34m(\u001b[0m\u001b[0mparks\u001b[0m\u001b[0;34m)\u001b[0m\u001b[0;34m)\u001b[0m\u001b[0;34m:\u001b[0m\u001b[0;34m\u001b[0m\u001b[0m\n\u001b[0;32m----> 6\u001b[0;31m     \u001b[0mloc\u001b[0m \u001b[0;34m=\u001b[0m \u001b[0mgeolocator\u001b[0m\u001b[0;34m.\u001b[0m\u001b[0mgeocode\u001b[0m\u001b[0;34m(\u001b[0m\u001b[0mparks\u001b[0m\u001b[0;34m[\u001b[0m\u001b[0;34m'STREET ADDRESS'\u001b[0m\u001b[0;34m]\u001b[0m\u001b[0;34m[\u001b[0m\u001b[0mi\u001b[0m\u001b[0;34m]\u001b[0m\u001b[0;34m)\u001b[0m\u001b[0;34m\u001b[0m\u001b[0m\n\u001b[0m\u001b[1;32m      7\u001b[0m     \u001b[0;32mtry\u001b[0m\u001b[0;34m:\u001b[0m\u001b[0;34m\u001b[0m\u001b[0m\n\u001b[1;32m      8\u001b[0m         \u001b[0mlats\u001b[0m\u001b[0;34m.\u001b[0m\u001b[0mappend\u001b[0m\u001b[0;34m(\u001b[0m\u001b[0mloc\u001b[0m\u001b[0;34m.\u001b[0m\u001b[0mlatitude\u001b[0m\u001b[0;34m)\u001b[0m\u001b[0;34m\u001b[0m\u001b[0m\n",
      "\u001b[0;32m/anaconda3/lib/python3.6/site-packages/geopy/geocoders/osm.py\u001b[0m in \u001b[0;36mgeocode\u001b[0;34m(self, query, exactly_one, timeout, addressdetails, language, geometry)\u001b[0m\n\u001b[1;32m    191\u001b[0m         \u001b[0mlogger\u001b[0m\u001b[0;34m.\u001b[0m\u001b[0mdebug\u001b[0m\u001b[0;34m(\u001b[0m\u001b[0;34m\"%s.geocode: %s\"\u001b[0m\u001b[0;34m,\u001b[0m \u001b[0mself\u001b[0m\u001b[0;34m.\u001b[0m\u001b[0m__class__\u001b[0m\u001b[0;34m.\u001b[0m\u001b[0m__name__\u001b[0m\u001b[0;34m,\u001b[0m \u001b[0murl\u001b[0m\u001b[0;34m)\u001b[0m\u001b[0;34m\u001b[0m\u001b[0m\n\u001b[1;32m    192\u001b[0m         return self._parse_json(\n\u001b[0;32m--> 193\u001b[0;31m             \u001b[0mself\u001b[0m\u001b[0;34m.\u001b[0m\u001b[0m_call_geocoder\u001b[0m\u001b[0;34m(\u001b[0m\u001b[0murl\u001b[0m\u001b[0;34m,\u001b[0m \u001b[0mtimeout\u001b[0m\u001b[0;34m=\u001b[0m\u001b[0mtimeout\u001b[0m\u001b[0;34m)\u001b[0m\u001b[0;34m,\u001b[0m \u001b[0mexactly_one\u001b[0m\u001b[0;34m\u001b[0m\u001b[0m\n\u001b[0m\u001b[1;32m    194\u001b[0m         )\n\u001b[1;32m    195\u001b[0m \u001b[0;34m\u001b[0m\u001b[0m\n",
      "\u001b[0;32m/anaconda3/lib/python3.6/site-packages/geopy/geocoders/base.py\u001b[0m in \u001b[0;36m_call_geocoder\u001b[0;34m(self, url, timeout, raw, requester, deserializer, **kwargs)\u001b[0m\n\u001b[1;32m    161\u001b[0m             \u001b[0;32melif\u001b[0m \u001b[0misinstance\u001b[0m\u001b[0;34m(\u001b[0m\u001b[0merror\u001b[0m\u001b[0;34m,\u001b[0m \u001b[0mURLError\u001b[0m\u001b[0;34m)\u001b[0m\u001b[0;34m:\u001b[0m\u001b[0;34m\u001b[0m\u001b[0m\n\u001b[1;32m    162\u001b[0m                 \u001b[0;32mif\u001b[0m \u001b[0;34m\"timed out\"\u001b[0m \u001b[0;32min\u001b[0m \u001b[0mmessage\u001b[0m\u001b[0;34m:\u001b[0m\u001b[0;34m\u001b[0m\u001b[0m\n\u001b[0;32m--> 163\u001b[0;31m                     \u001b[0;32mraise\u001b[0m \u001b[0mGeocoderTimedOut\u001b[0m\u001b[0;34m(\u001b[0m\u001b[0;34m'Service timed out'\u001b[0m\u001b[0;34m)\u001b[0m\u001b[0;34m\u001b[0m\u001b[0m\n\u001b[0m\u001b[1;32m    164\u001b[0m                 \u001b[0;32melif\u001b[0m \u001b[0;34m\"unreachable\"\u001b[0m \u001b[0;32min\u001b[0m \u001b[0mmessage\u001b[0m\u001b[0;34m:\u001b[0m\u001b[0;34m\u001b[0m\u001b[0m\n\u001b[1;32m    165\u001b[0m                     \u001b[0;32mraise\u001b[0m \u001b[0mGeocoderUnavailable\u001b[0m\u001b[0;34m(\u001b[0m\u001b[0;34m'Service not available'\u001b[0m\u001b[0;34m)\u001b[0m\u001b[0;34m\u001b[0m\u001b[0m\n",
      "\u001b[0;31mGeocoderTimedOut\u001b[0m: Service timed out"
     ]
    }
   ],
   "source": [
    "lats = []\n",
    "longs = []\n",
    "geolocator = Nominatim()\n",
    "\n",
    "for i in range(len(parks)):\n",
    "    loc = geolocator.geocode(parks['STREET ADDRESS'][i])\n",
    "    try:\n",
    "        lats.append(loc.latitude)\n",
    "    except:\n",
    "        lats.append(np.nan)\n",
    "    try:\n",
    "        longs.append(loc.longitude)\n",
    "    except:\n",
    "        longs.append(np.nan)\n",
    "        \n",
    "    time.sleep(5)"
   ]
  }
 ],
 "metadata": {
  "kernelspec": {
   "display_name": "Python [default]",
   "language": "python",
   "name": "python3"
  },
  "language_info": {
   "codemirror_mode": {
    "name": "ipython",
    "version": 3
   },
   "file_extension": ".py",
   "mimetype": "text/x-python",
   "name": "python",
   "nbconvert_exporter": "python",
   "pygments_lexer": "ipython3",
   "version": "3.6.3"
  }
 },
 "nbformat": 4,
 "nbformat_minor": 2
}
